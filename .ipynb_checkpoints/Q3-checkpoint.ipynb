{
 "cells": [
  {
   "cell_type": "code",
   "execution_count": 2,
   "id": "40d13350",
   "metadata": {},
   "outputs": [],
   "source": [
    "import zipfile\n",
    "import os\n",
    "from bs4 import BeautifulSoup\n",
    "from nltk.tokenize import word_tokenize\n",
    "from nltk.corpus import stopwords\n",
    "import string\n",
    "from collections import defaultdict\n",
    "import ast\n",
    "from tqdm.notebook import tqdm as tqdm\n",
    "import pickle"
   ]
  },
  {
   "cell_type": "markdown",
   "id": "1c6792ba",
   "metadata": {},
   "source": [
    "# Bigram Inverted Index"
   ]
  },
  {
   "cell_type": "code",
   "execution_count": null,
   "id": "1b3f31f9",
   "metadata": {},
   "outputs": [],
   "source": [
    "def helper(inv_idx_freq, inv_idx_postings, set_of_tokens, docID):\n",
    "    n = len(set_of)\n",
    "    \n",
    "    "
   ]
  },
  {
   "cell_type": "code",
   "execution_count": null,
   "id": "70704920",
   "metadata": {},
   "outputs": [],
   "source": [
    "inv_idx_freq  = defaultdict(int) # initializing the doc Frequency dictionary as a default dict which return 0 whenver a key does not exists.\n",
    "inv_idx_postings  = defaultdict(list) # intializing the postings dictionary to return an empty list whenever it is invoked for a key that does not exits.\n",
    "sample = 2\n",
    "docIDs = []\n",
    "folder_path = 'Q1_2_output'\n",
    "for filename in tqdm(os.listdir(folder_path)):\n",
    "    file_path = os.path.join(folder_path, filename)\n",
    "    if os.path.isfile(file_path):\n",
    "        with open(file_path, 'r') as file:\n",
    "            contents = file.read()\n",
    "            docID = int(filename[-4:])\n",
    "            docIDs.append(docID)\n",
    "            # print(docID)\n",
    "            # set_of_tokens = set(contents.strip('][').split(','))\n",
    "            set_of_tokens = set(ast.literal_eval(contents))\n",
    "            helper(inv_idx_freq, inv_idx_postings, set_of_tokens, docID)\n",
    "            print(f'{filename}: {contents}')\n",
    "            print(set_of_tokens)\n",
    "            sample -= 1\n",
    "            if (sample == 0):\n",
    "                break\n",
    "\n",
    "\n",
    "#sort the index in alphabetical order wrt terms\n",
    "inv_idx_postings = dict(sorted(inv_idx_postings.items()))\n",
    "inv_idx_freq = dict(sorted(inv_idx_freq.items()))\n",
    "\n",
    "for key in inv_idx_postings:\n",
    "    inv_idx_postings[key].sort() #sort the indivdual posting lists correponging to each term in the index\n"
   ]
  }
 ],
 "metadata": {
  "kernelspec": {
   "display_name": "Python 3 (ipykernel)",
   "language": "python",
   "name": "python3"
  },
  "language_info": {
   "codemirror_mode": {
    "name": "ipython",
    "version": 3
   },
   "file_extension": ".py",
   "mimetype": "text/x-python",
   "name": "python",
   "nbconvert_exporter": "python",
   "pygments_lexer": "ipython3",
   "version": "3.9.7"
  }
 },
 "nbformat": 4,
 "nbformat_minor": 5
}
