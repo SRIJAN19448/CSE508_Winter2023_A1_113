{
 "cells": [
  {
   "cell_type": "code",
   "execution_count": 1,
   "id": "40d13350",
   "metadata": {},
   "outputs": [],
   "source": [
    "import zipfile\n",
    "import os\n",
    "from bs4 import BeautifulSoup\n",
    "from nltk.tokenize import word_tokenize\n",
    "from nltk.corpus import stopwords\n",
    "import string\n",
    "from collections import defaultdict\n",
    "import ast\n",
    "from tqdm.notebook import tqdm as tqdm\n",
    "import pickle"
   ]
  },
  {
   "cell_type": "markdown",
   "id": "1c6792ba",
   "metadata": {},
   "source": [
    "# Bigram Inverted Index"
   ]
  },
  {
   "cell_type": "code",
   "execution_count": 2,
   "id": "1b3f31f9",
   "metadata": {},
   "outputs": [],
   "source": [
    "# helper function that generates all bigrams for a given set of tokens and accordingly updates the posting list and the doc frequency corresponding to the bigram.\n",
    "def helper(inv_idx_freq, inv_idx_postings, list_of_tokens, docID):\n",
    "    n = len(list_of_tokens)\n",
    "\n",
    "    for i in range(n-1):\n",
    "        token = (list_of_tokens[i], list_of_tokens[i+1])\n",
    "        posting_list =  inv_idx_postings[token]\n",
    "        if docID in posting_list:\n",
    "            continue\n",
    "        else:\n",
    "            inv_idx_postings[token].append(docID)\n",
    "            inv_idx_freq[token] = inv_idx_freq[token] + 1\n",
    "    \n",
    "    "
   ]
  },
  {
   "cell_type": "code",
   "execution_count": 3,
   "id": "893bf220",
   "metadata": {},
   "outputs": [],
   "source": [
    "def t1_and_t2(posting1, posting2):\n",
    "  \n",
    "  # if any of the postings is empty then their intersection will also be an empty list\n",
    "  if len(posting1) == 0 or len(posting2) == 0:\n",
    "    return []\n",
    "\n",
    "  ptr1 = 0 #pointer that iterates over posting 1\n",
    "  ptr2 = 0 #pointer that iterates over posting 2\n",
    "\n",
    "  comparisons = 0 #intialize number of comparison as 0\n",
    "  ans = []\n",
    "\n",
    "\n",
    "  while ptr1 < len(posting1) and ptr2 < len(posting2):\n",
    "    comparisons += 1 \n",
    "    if posting1[ptr1] ==  posting2[ptr2]: # this means that both the docs contains the word.\n",
    "      ans.append(posting1[ptr1])\n",
    "      ptr1 = ptr1 + 1\n",
    "      ptr2 = ptr2 + 1\n",
    "\n",
    "    elif posting1[ptr1] <  posting2[ptr2]:\n",
    "      ptr1 = ptr1 + 1\n",
    "    \n",
    "    else:\n",
    "      ptr2 = ptr2 + 1\n",
    "\n",
    "  return ans, comparisons\n"
   ]
  },
  {
   "cell_type": "code",
   "execution_count": 4,
   "id": "16ad1f98",
   "metadata": {},
   "outputs": [],
   "source": [
    "def not_t1(posting1):\n",
    "    global docIDs\n",
    "    ans = [] # to store all the docIDs except that are their in postings1\n",
    "\n",
    "    for i in docIDs:\n",
    "        if i in posting1:\n",
    "            continue\n",
    "        else:\n",
    "            ans.append(i)\n",
    "    return ans\n",
    "    \n"
   ]
  },
  {
   "cell_type": "code",
   "execution_count": 5,
   "id": "aa90539c",
   "metadata": {},
   "outputs": [],
   "source": [
    "def t1_and_not_t2(posting1, posting2):\n",
    "    ptr1 = 0 #pointer that iterates over posting 1\n",
    "    ptr2 = 0 #pointer that iterates over posting 2\n",
    "\n",
    "    comparisons = 0 #intialize number of comparison as 0\n",
    "    ans = []\n",
    "\n",
    "    while ptr1 < len(posting1) and ptr2 < len(posting2):\n",
    "        comparisons += 1\n",
    "\n",
    "        if posting1[ptr1] == posting2[ptr2]: \n",
    "            ptr1+=1\n",
    "            ptr2+=1\n",
    "            continue\n",
    "        elif posting1[ptr1] < posting2[ptr2]:\n",
    "            ans.append( posting1[ptr1] )\n",
    "            ptr1+=1\n",
    "\n",
    "        else:\n",
    "            ptr2+=1\n",
    "\n",
    "    while ptr1 < len(posting1):\n",
    "        ans.append(posting1[ptr1])\n",
    "        ptr1+=1\n",
    "\n",
    "    return ans, comparisons"
   ]
  },
  {
   "cell_type": "code",
   "execution_count": 6,
   "id": "eb0d2ea5",
   "metadata": {},
   "outputs": [],
   "source": [
    "def t1_or_t2(posting1, posting2):\n",
    "\n",
    "    #if any of the posting list is empty we will return the other list.\n",
    "    if len(posting1) == 0 :\n",
    "        return posting2, 0\n",
    "    if len(posting2) == 0:\n",
    "        return posting1, 0\n",
    "        \n",
    "    ptr1 = 0 #pointer that iterates over posting 1\n",
    "    ptr2 = 0 #pointer that iterates over posting 2\n",
    "\n",
    "    comparisons = 0 #intialize number of comparison as 0\n",
    "    ans = []\n",
    "\n",
    "    while ptr1 < len(posting1) and ptr2 < len(posting2):\n",
    "        comparisons+=1\n",
    "        if posting1[ptr1] < posting2[ptr2]:\n",
    "            ans.append(posting1[ptr1]) \n",
    "            ptr1+=1\n",
    "        elif posting2[ptr2] < posting1[ptr1]  :\n",
    "            ans.append(posting2[ptr2])\n",
    "            ptr2+=1\n",
    "        else:\n",
    "            ans.append(posting2[ptr2])\n",
    "            ptr1+=1\n",
    "            ptr2+=1\n",
    "\n",
    "    while(ptr1 < len(posting1)):\n",
    "        ans.append( posting1[ptr1] )\n",
    "        ptr1+=1\n",
    "    \n",
    "    while(ptr2 < len(posting2)):\n",
    "        ans.append( posting2[ptr2] )\n",
    "        ptr2+=1\n",
    "    \n",
    "    return ans, comparisons\n",
    "\n",
    "\n",
    "        "
   ]
  },
  {
   "cell_type": "code",
   "execution_count": 7,
   "id": "c7d3b46d",
   "metadata": {},
   "outputs": [],
   "source": [
    "def t1_or_not_t2(posting1, posting2):\n",
    "    # here we need to take the not of posting2 and then do an or with posting 1\n",
    "\n",
    "    if len(posting1) == 0: #if the first posting list is empty we will return the not of the other list.\n",
    "        return not_t1(posting2)\n",
    "    \n",
    "    not_posting2 = not_t1(posting2)\n",
    "\n",
    "    ans, comparisons = t1_or_t2(posting1, not_posting2)\n",
    "    return ans, comparisons\n",
    "\n",
    "    \n",
    "    "
   ]
  },
  {
   "cell_type": "code",
   "execution_count": 8,
   "id": "70704920",
   "metadata": {},
   "outputs": [
    {
     "data": {
      "application/vnd.jupyter.widget-view+json": {
       "model_id": "09b97791a26c4ec0b1ea8505b7999c12",
       "version_major": 2,
       "version_minor": 0
      },
      "text/plain": [
       "  0%|          | 0/1400 [00:00<?, ?it/s]"
      ]
     },
     "metadata": {},
     "output_type": "display_data"
    }
   ],
   "source": [
    "inv_idx_freq  = defaultdict(int) # initializing the doc Frequency dictionary as a default dict which return 0 whenver a key does not exists.\n",
    "inv_idx_postings  = defaultdict(list) # intializing the postings dictionary to return an empty list whenever it is invoked for a key that does not exits.\n",
    "sample = 2\n",
    "docIDs = []\n",
    "folder_path = 'Q1_2_output'\n",
    "for filename in tqdm(os.listdir(folder_path)):\n",
    "    file_path = os.path.join(folder_path, filename)\n",
    "    if os.path.isfile(file_path):\n",
    "        with open(file_path, 'r') as file:\n",
    "            contents = file.read()\n",
    "            docID = int(filename[-4:])\n",
    "            docIDs.append(docID)\n",
    "            # print(docID)\n",
    "            # set_of_tokens = set(contents.strip('][').split(','))\n",
    "            list_of_tokens = ast.literal_eval(contents)\n",
    "            helper(inv_idx_freq, inv_idx_postings, list_of_tokens, docID)\n",
    "            # print(f'{filename}: {contents}')\n",
    "            # print(set_of_tokens)\n",
    "            # sample -= 1\n",
    "            # if (sample == 0):\n",
    "            #     break\n",
    "\n",
    "\n",
    "#sort the index in alphabetical order wrt terms\n",
    "inv_idx_postings = dict(sorted(inv_idx_postings.items()))\n",
    "inv_idx_freq = dict(sorted(inv_idx_freq.items()))\n",
    "\n",
    "for key in inv_idx_postings:\n",
    "    inv_idx_postings[key].sort() #sort the indivdual posting lists correponging to each term in the index\n"
   ]
  },
  {
   "cell_type": "code",
   "execution_count": 9,
   "id": "8b34b8f1",
   "metadata": {},
   "outputs": [],
   "source": [
    "# print(inv_idx_postings)"
   ]
  },
  {
   "cell_type": "code",
   "execution_count": 10,
   "id": "4691f7e9",
   "metadata": {},
   "outputs": [
    {
     "name": "stdout",
     "output_type": "stream",
     "text": [
      "[455]\n"
     ]
    }
   ],
   "source": [
    "print(inv_idx_postings[('accurate', 'calculation')])"
   ]
  },
  {
   "cell_type": "code",
   "execution_count": 11,
   "id": "2e0ada3b",
   "metadata": {},
   "outputs": [],
   "source": [
    "pickle.dump(inv_idx_postings, open('bi_inv_idx_postings.pkl', 'wb'))\n",
    "pickle.dump(inv_idx_freq, open('bi_inv_idx_freq.pkl', 'wb'))"
   ]
  },
  {
   "cell_type": "code",
   "execution_count": 12,
   "id": "e601aef7",
   "metadata": {},
   "outputs": [],
   "source": [
    "inv_idx_postings = pickle.load(open(\"bi_inv_idx_postings.pkl\", 'rb'))\n",
    "inv_idx_freq = pickle.load(open(\"bi_inv_idx_freq.pkl\", 'rb'))"
   ]
  },
  {
   "cell_type": "code",
   "execution_count": 13,
   "id": "e21aeade",
   "metadata": {},
   "outputs": [
    {
     "name": "stdout",
     "output_type": "stream",
     "text": [
      "[455]\n"
     ]
    }
   ],
   "source": [
    "print(inv_idx_postings[('accurate', 'calculation')])"
   ]
  },
  {
   "attachments": {},
   "cell_type": "markdown",
   "id": "b6eb1420",
   "metadata": {},
   "source": [
    "# Positional index"
   ]
  },
  {
   "cell_type": "code",
   "execution_count": 14,
   "id": "48f3c14e",
   "metadata": {},
   "outputs": [],
   "source": [
    "def pos_helper(list_of_tokens, docID):\n",
    "    global term_doc_pos\n",
    "    global term_doc_freq\n",
    "\n",
    "    n = len( list_of_tokens )\n",
    "\n",
    "    for i in range(n):\n",
    "        token = list_of_tokens[i]\n",
    "        \n",
    "        if token in term_doc_pos:\n",
    "            tdict = term_doc_pos[token]\n",
    "            \n",
    "            if docID in tdict:\n",
    "                tdict[docID].append(i)\n",
    "\n",
    "            else:\n",
    "                tdict[docID] = [i]\n",
    "\n",
    "        else:\n",
    "            term_doc_pos[token] = { docID : [i] }\n",
    "\n",
    "        \n",
    "    "
   ]
  },
  {
   "cell_type": "code",
   "execution_count": 15,
   "id": "2d2ef6c2",
   "metadata": {},
   "outputs": [],
   "source": [
    "# this function tell wether the given doc contains the given token at the given position\n",
    "def helper2(docID, token, pos):\n",
    "    global term_doc_pos\n",
    "    if token in term_doc_pos:\n",
    "        tdict =term_doc_pos[token]\n",
    "        if docID in tdict:\n",
    "            positions = tdict[docID]\n",
    "            if pos in positions:\n",
    "                return True\n",
    "    return False\n",
    "\n",
    "# this function tells wether the given docs is valid or not with respect to the position of tokens \n",
    "def validDocID(docID, tokens, staring_position):\n",
    "    n = len(tokens)\n",
    "    ans = True\n",
    "    for i in range(n):\n",
    "        check = helper2(docID, tokens[i], staring_position+i)\n",
    "        ans =  ans and check\n",
    "\n",
    "    return ans\n",
    "\n",
    "#  perform the search of given token using positional index and return the retrieved docIDs\n",
    "def pos_search(tokens):\n",
    "    global term_doc_pos\n",
    "    ans = []\n",
    "    \n",
    "    if tokens[0] not in term_doc_pos:\n",
    "        return []\n",
    "\n",
    "    # get all the docIDs and the corresponding position indexes, corresponding to this token\n",
    "\n",
    "    tdict1 = term_doc_pos[tokens[0]]\n",
    "\n",
    "    for doc_id in tdict1:\n",
    "        # check if this docID contains all the required token or not at the desired index.\n",
    "        positions = tdict1[doc_id]\n",
    "        for j in positions:\n",
    "            check = validDocID(doc_id, tokens, j)\n",
    "            if (check):\n",
    "                ans.append(doc_id)\n",
    "                break\n",
    "    return ans\n",
    "            \n",
    "\n",
    "    "
   ]
  },
  {
   "cell_type": "code",
   "execution_count": 16,
   "id": "7052db39",
   "metadata": {},
   "outputs": [],
   "source": [
    "# term_doc_pos = {\n",
    "#     'A' : {\n",
    "#         1 : [0,1,2,3],\n",
    "#         2 : [0,1,3,4,5,6]\n",
    "#     },\n",
    "#     'B' : {\n",
    "#         1 : [5,6],\n",
    "#         2 : [7,9]\n",
    "#     },\n",
    "#     'C' : {\n",
    "#         1 : [7,8],\n",
    "#         2 : [8]\n",
    "#     }\n",
    "\n",
    "# }\n",
    "\n",
    "# pos_search(['B', 'C', 'B'])\n",
    "\n"
   ]
  },
  {
   "cell_type": "code",
   "execution_count": 17,
   "id": "2d5d4ab3",
   "metadata": {},
   "outputs": [
    {
     "data": {
      "application/vnd.jupyter.widget-view+json": {
       "model_id": "79df10999b144d0194d8d061ae6be791",
       "version_major": 2,
       "version_minor": 0
      },
      "text/plain": [
       "  0%|          | 0/1400 [00:00<?, ?it/s]"
      ]
     },
     "metadata": {},
     "output_type": "display_data"
    }
   ],
   "source": [
    "# for positional index we create 2 dictionaries.\n",
    "\n",
    "# the first dictionary has its keys as the token and the values is also a dictionary where the keys are docIDs and the values is a list of positions of the token in that doc id\n",
    "\n",
    "# the second dictionary has its keys as the token adn the values are the number of docs containing the term.\n",
    "\n",
    "term_doc_pos = {}\n",
    "term_doc_freq = {}\n",
    "\n",
    "sample = 2\n",
    "docIDs = []\n",
    "folder_path = 'Q1_2_output'\n",
    "for filename in tqdm(os.listdir(folder_path)):\n",
    "    file_path = os.path.join(folder_path, filename)\n",
    "    if os.path.isfile(file_path):\n",
    "        with open(file_path, 'r') as file:\n",
    "            contents = file.read()\n",
    "            docID = int(filename[-4:])\n",
    "            docIDs.append(docID)\n",
    "            list_of_tokens = ast.literal_eval(contents)\n",
    "            pos_helper(list_of_tokens, docID)\n",
    "            \n",
    "\n",
    "for keys in term_doc_pos:\n",
    "    term_doc_freq[keys] = len( term_doc_pos[keys] )\n",
    "\n",
    "#sort the index in alphabetical order wrt terms          \n",
    "term_doc_pos = dict(sorted(term_doc_pos.items()))\n",
    "term_doc_freq = dict(sorted(term_doc_freq.items()))\n",
    "\n",
    "# sorting the internal dictionary\n",
    "for key in term_doc_pos:\n",
    "    term_doc_pos[key] = dict(sorted(term_doc_pos[key].items()))\n",
    "\n",
    "    for key2 in term_doc_pos[key]:\n",
    "        term_doc_pos[key][key2].sort()"
   ]
  },
  {
   "cell_type": "code",
   "execution_count": 18,
   "id": "dfb9006d",
   "metadata": {},
   "outputs": [],
   "source": [
    "pickle.dump(term_doc_pos, open('pos_inv_idx_postings.pkl', 'wb'))\n",
    "pickle.dump(term_doc_freq, open('pos_inv_idx_freq.pkl', 'wb'))"
   ]
  },
  {
   "cell_type": "code",
   "execution_count": 19,
   "id": "320edfab",
   "metadata": {},
   "outputs": [],
   "source": [
    "term_doc_pos = pickle.load(open(\"pos_inv_idx_postings.pkl\", 'rb'))\n",
    "term_doc_freq = pickle.load(open(\"pos_inv_idx_freq.pkl\", 'rb'))"
   ]
  },
  {
   "cell_type": "code",
   "execution_count": 25,
   "id": "4808237b",
   "metadata": {},
   "outputs": [
    {
     "data": {
      "text/plain": [
       "[674]"
      ]
     },
     "execution_count": 25,
     "metadata": {},
     "output_type": "execute_result"
    }
   ],
   "source": [
    "pos_search(['almost', 'cases', 'considered'])"
   ]
  }
 ],
 "metadata": {
  "kernelspec": {
   "display_name": "benv",
   "language": "python",
   "name": "python3"
  },
  "language_info": {
   "codemirror_mode": {
    "name": "ipython",
    "version": 3
   },
   "file_extension": ".py",
   "mimetype": "text/x-python",
   "name": "python",
   "nbconvert_exporter": "python",
   "pygments_lexer": "ipython3",
   "version": "3.9.7"
  },
  "vscode": {
   "interpreter": {
    "hash": "a9509631f6d892f4e9e996ac093b0c5f431d646c0c87d4a83f341ba5e921b848"
   }
  }
 },
 "nbformat": 4,
 "nbformat_minor": 5
}
