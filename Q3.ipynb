{
 "cells": [
  {
   "cell_type": "code",
   "execution_count": 3,
   "id": "40d13350",
   "metadata": {},
   "outputs": [],
   "source": [
    "import zipfile\n",
    "import os\n",
    "from bs4 import BeautifulSoup\n",
    "from nltk.tokenize import word_tokenize\n",
    "from nltk.corpus import stopwords\n",
    "import string\n",
    "from collections import defaultdict\n",
    "import ast\n",
    "from tqdm.notebook import tqdm as tqdm\n",
    "import pickle"
   ]
  },
  {
   "cell_type": "markdown",
   "id": "1c6792ba",
   "metadata": {},
   "source": [
    "# Bigram Inverted Index"
   ]
  },
  {
   "cell_type": "code",
   "execution_count": 1,
   "id": "1b3f31f9",
   "metadata": {},
   "outputs": [],
   "source": [
    "# helper function that generates all bigrams for a given set of tokens and accordingly updates the posting list and the doc frequency corresponding to the bigram.\n",
    "def helper(inv_idx_freq, inv_idx_postings, list_of_tokens, docID):\n",
    "    n = len(list_of_tokens)\n",
    "\n",
    "    for i in range(n-1):\n",
    "        token = (list_of_tokens[i], list_of_tokens[i+1])\n",
    "        posting_list =  inv_idx_postings[token]\n",
    "        if docID in posting_list:\n",
    "            continue\n",
    "        else:\n",
    "            inv_idx_postings[token].append(docID)\n",
    "            inv_idx_freq[token] = inv_idx_freq[token] + 1\n",
    "    \n",
    "    "
   ]
  },
  {
   "cell_type": "code",
   "execution_count": null,
   "id": "893bf220",
   "metadata": {},
   "outputs": [],
   "source": [
    "def t1_and_t2(posting1, posting2):\n",
    "  \n",
    "  # if any of the postings is empty then their intersection will also be an empty list\n",
    "  if len(posting1) == 0 or len(posting2) == 0:\n",
    "    return []\n",
    "\n",
    "  ptr1 = 0 #pointer that iterates over posting 1\n",
    "  ptr2 = 0 #pointer that iterates over posting 2\n",
    "\n",
    "  comparisons = 0 #intialize number of comparison as 0\n",
    "  ans = []\n",
    "\n",
    "\n",
    "  while ptr1 < len(posting1) and ptr2 < len(posting2):\n",
    "    comparisons += 1 \n",
    "    if posting1[ptr1] ==  posting2[ptr2]: # this means that both the docs contains the word.\n",
    "      ans.append(posting1[ptr1])\n",
    "      ptr1 = ptr1 + 1\n",
    "      ptr2 = ptr2 + 1\n",
    "\n",
    "    elif posting1[ptr1] <  posting2[ptr2]:\n",
    "      ptr1 = ptr1 + 1\n",
    "    \n",
    "    else:\n",
    "      ptr2 = ptr2 + 1\n",
    "\n",
    "  return ans, comparisons\n"
   ]
  },
  {
   "cell_type": "code",
   "execution_count": null,
   "id": "16ad1f98",
   "metadata": {},
   "outputs": [],
   "source": [
    "def not_t1(posting1):\n",
    "    global docIDs\n",
    "    ans = [] # to store all the docIDs except that are their in postings1\n",
    "\n",
    "    for i in docIDs:\n",
    "        if i in posting1:\n",
    "            continue\n",
    "        else:\n",
    "            ans.append(i)\n",
    "    return ans\n",
    "    \n"
   ]
  },
  {
   "cell_type": "code",
   "execution_count": null,
   "id": "aa90539c",
   "metadata": {},
   "outputs": [],
   "source": [
    "def t1_and_not_t2(posting1, posting2):\n",
    "    ptr1 = 0 #pointer that iterates over posting 1\n",
    "    ptr2 = 0 #pointer that iterates over posting 2\n",
    "\n",
    "    comparisons = 0 #intialize number of comparison as 0\n",
    "    ans = []\n",
    "\n",
    "    while ptr1 < len(posting1) and ptr2 < len(posting2):\n",
    "        comparisons += 1\n",
    "\n",
    "        if posting1[ptr1] == posting2[ptr2]: \n",
    "            ptr1+=1\n",
    "            ptr2+=1\n",
    "            continue\n",
    "        elif posting1[ptr1] < posting2[ptr2]:\n",
    "            ans.append( posting1[ptr1] )\n",
    "            ptr1+=1\n",
    "\n",
    "        else:\n",
    "            ptr2+=1\n",
    "\n",
    "    while ptr1 < len(posting1):\n",
    "        ans.append(posting1[ptr1])\n",
    "        ptr1+=1\n",
    "\n",
    "    return ans, comparisons"
   ]
  },
  {
   "cell_type": "code",
   "execution_count": null,
   "id": "eb0d2ea5",
   "metadata": {},
   "outputs": [],
   "source": [
    "def t1_or_t2(posting1, posting2):\n",
    "\n",
    "    #if any of the posting list is empty we will return the other list.\n",
    "    if len(posting1) == 0 :\n",
    "        return posting2, 0\n",
    "    if len(posting2) == 0:\n",
    "        return posting1, 0\n",
    "        \n",
    "    ptr1 = 0 #pointer that iterates over posting 1\n",
    "    ptr2 = 0 #pointer that iterates over posting 2\n",
    "\n",
    "    comparisons = 0 #intialize number of comparison as 0\n",
    "    ans = []\n",
    "\n",
    "    while ptr1 < len(posting1) and ptr2 < len(posting2):\n",
    "        comparisons+=1\n",
    "        if posting1[ptr1] < posting2[ptr2]:\n",
    "            ans.append(posting1[ptr1]) \n",
    "            ptr1+=1\n",
    "        elif posting2[ptr2] < posting1[ptr1]  :\n",
    "            ans.append(posting2[ptr2])\n",
    "            ptr2+=1\n",
    "        else:\n",
    "            ans.append(posting2[ptr2])\n",
    "            ptr1+=1\n",
    "            ptr2+=1\n",
    "\n",
    "    while(ptr1 < len(posting1)):\n",
    "        ans.append( posting1[ptr1] )\n",
    "        ptr1+=1\n",
    "    \n",
    "    while(ptr2 < len(posting2)):\n",
    "        ans.append( posting2[ptr2] )\n",
    "        ptr2+=1\n",
    "    \n",
    "    return ans, comparisons\n",
    "\n",
    "\n",
    "        "
   ]
  },
  {
   "cell_type": "code",
   "execution_count": null,
   "id": "c7d3b46d",
   "metadata": {},
   "outputs": [],
   "source": [
    "def t1_or_not_t2(posting1, posting2):\n",
    "    # here we need to take the not of posting2 and then do an or with posting 1\n",
    "\n",
    "    if len(posting1) == 0: #if the first posting list is empty we will return the not of the other list.\n",
    "        return not_t1(posting2)\n",
    "    \n",
    "    not_posting2 = not_t1(posting2)\n",
    "\n",
    "    ans, comparisons = t1_or_t2(posting1, not_posting2)\n",
    "    return ans, comparisons\n",
    "\n",
    "    \n",
    "    "
   ]
  },
  {
   "cell_type": "code",
   "execution_count": 29,
   "id": "70704920",
   "metadata": {},
   "outputs": [
    {
     "data": {
      "application/vnd.jupyter.widget-view+json": {
       "model_id": "d6df7438dcf64240a6dcaa30822748f6",
       "version_major": 2,
       "version_minor": 0
      },
      "text/plain": [
       "  0%|          | 0/1400 [00:00<?, ?it/s]"
      ]
     },
     "metadata": {},
     "output_type": "display_data"
    }
   ],
   "source": [
    "inv_idx_freq  = defaultdict(int) # initializing the doc Frequency dictionary as a default dict which return 0 whenver a key does not exists.\n",
    "inv_idx_postings  = defaultdict(list) # intializing the postings dictionary to return an empty list whenever it is invoked for a key that does not exits.\n",
    "sample = 2\n",
    "docIDs = []\n",
    "folder_path = 'Q1_2_output'\n",
    "for filename in tqdm(os.listdir(folder_path)):\n",
    "    file_path = os.path.join(folder_path, filename)\n",
    "    if os.path.isfile(file_path):\n",
    "        with open(file_path, 'r') as file:\n",
    "            contents = file.read()\n",
    "            docID = int(filename[-4:])\n",
    "            docIDs.append(docID)\n",
    "            # print(docID)\n",
    "            # set_of_tokens = set(contents.strip('][').split(','))\n",
    "            list_of_tokens = ast.literal_eval(contents)\n",
    "            helper(inv_idx_freq, inv_idx_postings, list_of_tokens, docID)\n",
    "            # print(f'{filename}: {contents}')\n",
    "            # print(set_of_tokens)\n",
    "            # sample -= 1\n",
    "            # if (sample == 0):\n",
    "            #     break\n",
    "\n",
    "\n",
    "#sort the index in alphabetical order wrt terms\n",
    "inv_idx_postings = dict(sorted(inv_idx_postings.items()))\n",
    "inv_idx_freq = dict(sorted(inv_idx_freq.items()))\n",
    "\n",
    "for key in inv_idx_postings:\n",
    "    inv_idx_postings[key].sort() #sort the indivdual posting lists correponging to each term in the index\n"
   ]
  },
  {
   "cell_type": "code",
   "execution_count": 23,
   "id": "8b34b8f1",
   "metadata": {},
   "outputs": [],
   "source": [
    "# print(inv_idx_postings)"
   ]
  },
  {
   "cell_type": "code",
   "execution_count": 30,
   "id": "4691f7e9",
   "metadata": {},
   "outputs": [
    {
     "name": "stdout",
     "output_type": "stream",
     "text": [
      "[455]\n"
     ]
    }
   ],
   "source": [
    "print(inv_idx_postings[('accurate', 'calculation')])"
   ]
  },
  {
   "cell_type": "code",
   "execution_count": 25,
   "id": "2e0ada3b",
   "metadata": {},
   "outputs": [],
   "source": [
    "pickle.dump(inv_idx_postings, open('bi_inv_idx_postings.pkl', 'wb'))\n",
    "pickle.dump(inv_idx_freq, open('bi_inv_idx_freq.pkl', 'wb'))"
   ]
  },
  {
   "cell_type": "code",
   "execution_count": 26,
   "id": "e601aef7",
   "metadata": {},
   "outputs": [],
   "source": [
    "inv_idx_postings = pickle.load(open(\"bi_inv_idx_postings.pkl\", 'rb'))\n",
    "inv_idx_freq = pickle.load(open(\"bi_inv_idx_freq.pkl\", 'rb'))"
   ]
  },
  {
   "cell_type": "code",
   "execution_count": 28,
   "id": "e21aeade",
   "metadata": {},
   "outputs": [
    {
     "name": "stdout",
     "output_type": "stream",
     "text": [
      "[455]\n"
     ]
    }
   ],
   "source": [
    "print(inv_idx_postings[('accurate', 'calculation')])"
   ]
  },
  {
   "attachments": {},
   "cell_type": "markdown",
   "id": "b6eb1420",
   "metadata": {},
   "source": [
    "# Positional index"
   ]
  },
  {
   "cell_type": "markdown",
   "id": "2fb42937",
   "metadata": {},
   "source": []
  }
 ],
 "metadata": {
  "kernelspec": {
   "display_name": "benv",
   "language": "python",
   "name": "python3"
  },
  "language_info": {
   "codemirror_mode": {
    "name": "ipython",
    "version": 3
   },
   "file_extension": ".py",
   "mimetype": "text/x-python",
   "name": "python",
   "nbconvert_exporter": "python",
   "pygments_lexer": "ipython3",
   "version": "3.9.7"
  },
  "vscode": {
   "interpreter": {
    "hash": "a9509631f6d892f4e9e996ac093b0c5f431d646c0c87d4a83f341ba5e921b848"
   }
  }
 },
 "nbformat": 4,
 "nbformat_minor": 5
}
