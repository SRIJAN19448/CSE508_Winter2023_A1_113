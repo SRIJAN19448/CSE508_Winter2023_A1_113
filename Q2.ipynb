{
 "cells": [
  {
   "cell_type": "code",
   "execution_count": 47,
   "metadata": {},
   "outputs": [],
   "source": [
    "import zipfile\n",
    "import os\n",
    "from bs4 import BeautifulSoup\n",
    "from nltk.tokenize import word_tokenize\n",
    "from nltk.corpus import stopwords\n",
    "import string\n",
    "from collections import defaultdict\n",
    "import ast\n",
    "from tqdm.notebook import tqdm as tqdm\n",
    "import pickle\n",
    "import contractions"
   ]
  },
  {
   "cell_type": "code",
   "execution_count": 48,
   "metadata": {},
   "outputs": [],
   "source": [
    "def helper(inv_idx_freq, inv_idx_postings, set_of_tokens, docID):\n",
    "    for j in set_of_tokens:\n",
    "        inv_idx_postings[j].append(docID)\n",
    "        inv_idx_freq[j] = inv_idx_freq[j] + 1\n",
    "        \n",
    "        "
   ]
  },
  {
   "cell_type": "code",
   "execution_count": 75,
   "metadata": {},
   "outputs": [],
   "source": [
    "def t1_and_t2(posting1, posting2):\n",
    "  \n",
    "  # if any of the postings is empty then their intersection will also be an empty list\n",
    "  if len(posting1) == 0 or len(posting2) == 0:\n",
    "    return [], 0\n",
    "\n",
    "  ptr1 = 0 #pointer that iterates over posting 1\n",
    "  ptr2 = 0 #pointer that iterates over posting 2\n",
    "\n",
    "  comparisons = 0 #intialize number of comparison as 0\n",
    "  ans = []\n",
    "\n",
    "\n",
    "  while ptr1 < len(posting1) and ptr2 < len(posting2):\n",
    "    comparisons += 1 \n",
    "    if posting1[ptr1] ==  posting2[ptr2]: # this means that both the docs contains the word.\n",
    "      ans.append(posting1[ptr1])\n",
    "      ptr1 = ptr1 + 1\n",
    "      ptr2 = ptr2 + 1\n",
    "\n",
    "    elif posting1[ptr1] <  posting2[ptr2]:\n",
    "      ptr1 = ptr1 + 1\n",
    "    \n",
    "    else:\n",
    "      ptr2 = ptr2 + 1\n",
    "\n",
    "  return ans, comparisons\n"
   ]
  },
  {
   "cell_type": "code",
   "execution_count": 50,
   "metadata": {},
   "outputs": [],
   "source": [
    "def not_t1(posting1):\n",
    "    global docIDs\n",
    "    ans = [] # to store all the docIDs except that are their in postings1\n",
    "\n",
    "    for i in docIDs:\n",
    "        if i in posting1:\n",
    "            continue\n",
    "        else:\n",
    "            ans.append(i)\n",
    "    return ans\n",
    "    \n"
   ]
  },
  {
   "cell_type": "code",
   "execution_count": 51,
   "metadata": {},
   "outputs": [],
   "source": [
    "# def t1_and_not_t2(posting1, posting2):\n",
    "#     # if the first posting is empty then the intersection will also be an empty list\n",
    "#     if len(posting1) == 0: \n",
    "#         return [], 0\n",
    "\n",
    "#     if len(posting2) == 0:\n",
    "#         return posting1, len(posting1)\n",
    "    \n",
    "#     # perform not query for posting2\n",
    "#     not_posting2 = not_t1(posting2)\n",
    "\n",
    "#     # now perform the and operation for posting1 and not_posting2\n",
    "#     ans, comparisons = t1_and_t2(posting1, not_posting2)\n",
    "#     return ans, comparisons\n",
    "    \n",
    "def t1_and_not_t2(posting1, posting2):\n",
    "    ptr1 = 0 #pointer that iterates over posting 1\n",
    "    ptr2 = 0 #pointer that iterates over posting 2\n",
    "\n",
    "    comparisons = 0 #intialize number of comparison as 0\n",
    "    ans = []\n",
    "\n",
    "    while ptr1 < len(posting1) and ptr2 < len(posting2):\n",
    "        comparisons += 1\n",
    "\n",
    "        if posting1[ptr1] == posting2[ptr2]: \n",
    "            ptr1+=1\n",
    "            ptr2+=1\n",
    "            continue\n",
    "        elif posting1[ptr1] < posting2[ptr2]:\n",
    "            ans.append( posting1[ptr1] )\n",
    "            ptr1+=1\n",
    "\n",
    "        else:\n",
    "            ptr2+=1\n",
    "\n",
    "    while ptr1 < len(posting1):\n",
    "        ans.append(posting1[ptr1])\n",
    "        ptr1+=1\n",
    "\n",
    "    return ans, comparisons\n",
    "\n",
    "        \n",
    "\n",
    "    \n",
    "\n",
    "\n"
   ]
  },
  {
   "cell_type": "code",
   "execution_count": 52,
   "metadata": {},
   "outputs": [],
   "source": [
    "def t1_or_t2(posting1, posting2):\n",
    "\n",
    "    #if any of the posting list is empty we will return the other list.\n",
    "    if len(posting1) == 0 :\n",
    "        return posting2, 0\n",
    "    if len(posting2) == 0:\n",
    "        return posting1, 0\n",
    "        \n",
    "    ptr1 = 0 #pointer that iterates over posting 1\n",
    "    ptr2 = 0 #pointer that iterates over posting 2\n",
    "\n",
    "    comparisons = 0 #intialize number of comparison as 0\n",
    "    ans = []\n",
    "\n",
    "    while ptr1 < len(posting1) and ptr2 < len(posting2):\n",
    "        comparisons+=1\n",
    "        if posting1[ptr1] < posting2[ptr2]:\n",
    "            ans.append(posting1[ptr1]) \n",
    "            ptr1+=1\n",
    "        elif posting2[ptr2] < posting1[ptr1]  :\n",
    "            ans.append(posting2[ptr2])\n",
    "            ptr2+=1\n",
    "        else:\n",
    "            ans.append(posting2[ptr2])\n",
    "            ptr1+=1\n",
    "            ptr2+=1\n",
    "\n",
    "    while(ptr1 < len(posting1)):\n",
    "        ans.append( posting1[ptr1] )\n",
    "        ptr1+=1\n",
    "    \n",
    "    while(ptr2 < len(posting2)):\n",
    "        ans.append( posting2[ptr2] )\n",
    "        ptr2+=1\n",
    "    \n",
    "    return ans, comparisons\n",
    "\n",
    "\n",
    "        \n",
    "\n",
    "\n"
   ]
  },
  {
   "cell_type": "code",
   "execution_count": 53,
   "metadata": {},
   "outputs": [],
   "source": [
    "def t1_or_not_t2(posting1, posting2):\n",
    "    # here we need to take the not of posting2 and then do an or with posting 1\n",
    "\n",
    "    if len(posting1) == 0: #if the first posting list is empty we will return the not of the other list.\n",
    "        return not_t1(posting2)\n",
    "    \n",
    "    not_posting2 = not_t1(posting2)\n",
    "\n",
    "    ans, comparisons = t1_or_t2(posting1, not_posting2)\n",
    "    return ans, comparisons\n",
    "\n",
    "    \n",
    "    "
   ]
  },
  {
   "cell_type": "code",
   "execution_count": 54,
   "metadata": {},
   "outputs": [],
   "source": [
    "# l1 = [1,2,3,4]\n",
    "# l2 = [2,3,7,9,19]\n",
    "# print(t1_or_not_t2(l1,l2))"
   ]
  },
  {
   "cell_type": "code",
   "execution_count": 55,
   "metadata": {},
   "outputs": [
    {
     "data": {
      "application/vnd.jupyter.widget-view+json": {
       "model_id": "bf82ecfb0b6e4dfbbe45b718cbc0ef2a",
       "version_major": 2,
       "version_minor": 0
      },
      "text/plain": [
       "  0%|          | 0/1400 [00:00<?, ?it/s]"
      ]
     },
     "metadata": {},
     "output_type": "display_data"
    }
   ],
   "source": [
    "inv_idx_freq  = defaultdict(int) # initializing the doc Frequency dictionary as a default dict which return 0 whenver a key does not exists.\n",
    "inv_idx_postings  = defaultdict(list) # intializing the postings dictionary to return an empty list whenever it is invoked for a key that does not exits.\n",
    "sample = 5\n",
    "docIDs = []\n",
    "folder_path = 'Q1_2_output'\n",
    "for filename in tqdm(os.listdir(folder_path)):\n",
    "    file_path = os.path.join(folder_path, filename)\n",
    "    if os.path.isfile(file_path):\n",
    "        with open(file_path, 'r') as file:\n",
    "            contents = file.read()\n",
    "            docID = int(filename[-4:])\n",
    "            docIDs.append(docID)\n",
    "            # print(docID)\n",
    "            # set_of_tokens = set(contents.strip('][').split(','))\n",
    "            set_of_tokens = set(ast.literal_eval(contents))\n",
    "            helper(inv_idx_freq, inv_idx_postings, set_of_tokens, docID)\n",
    "            # print(f'{filename}: {contents}')\n",
    "            # print(set_of_tokens)\n",
    "            # sample -= 1\n",
    "            # if (sample == 0):\n",
    "            #     break\n",
    "\n",
    "\n",
    "#sort the index in alphabetical order wrt terms\n",
    "inv_idx_postings = dict(sorted(inv_idx_postings.items()))\n",
    "inv_idx_freq = dict(sorted(inv_idx_freq.items()))\n",
    "\n",
    "for key in inv_idx_postings:\n",
    "    inv_idx_postings[key].sort() #sort the indivdual posting lists correponging to each term in the index\n"
   ]
  },
  {
   "cell_type": "code",
   "execution_count": 56,
   "metadata": {},
   "outputs": [],
   "source": [
    "pickle.dump(inv_idx_postings, open('inv_idx_postings.pkl', 'wb'))\n",
    "pickle.dump(inv_idx_freq, open('inv_idx_freq.pkl', 'wb'))"
   ]
  },
  {
   "cell_type": "code",
   "execution_count": 57,
   "metadata": {},
   "outputs": [],
   "source": [
    "inv_idx_postings = pickle.load(open(\"inv_idx_postings.pkl\", 'rb'))\n",
    "inv_idx_freq = pickle.load(open(\"inv_idx_freq.pkl\", 'rb'))"
   ]
  },
  {
   "cell_type": "markdown",
   "metadata": {},
   "source": []
  },
  {
   "cell_type": "code",
   "execution_count": 58,
   "metadata": {},
   "outputs": [],
   "source": [
    "# print(inv_idx_postings)"
   ]
  },
  {
   "cell_type": "code",
   "execution_count": 59,
   "metadata": {},
   "outputs": [
    {
     "name": "stdout",
     "output_type": "stream",
     "text": [
      "286\n"
     ]
    }
   ],
   "source": [
    "print(inv_idx_freq['surface'])"
   ]
  },
  {
   "attachments": {},
   "cell_type": "markdown",
   "metadata": {},
   "source": [
    "# Query preprocessing"
   ]
  },
  {
   "cell_type": "code",
   "execution_count": 60,
   "metadata": {},
   "outputs": [],
   "source": [
    "def remove_punc(token):\n",
    "    translator = str.maketrans('', '', string.punctuation)\n",
    "    return token.translate(translator)"
   ]
  },
  {
   "cell_type": "code",
   "execution_count": 61,
   "metadata": {},
   "outputs": [],
   "source": [
    "def preprocess_query(query):\n",
    "    content1 = query.lower()\n",
    "    content1 = contractions.fix(content1)\n",
    "    tokens = word_tokenize(content1)\n",
    "    stop_words = set(stopwords.words(\"english\"))\n",
    "    tokens1 = [token for token in tokens if token not in stop_words]\n",
    "    tokens2 = list(map(remove_punc, tokens1))\n",
    "    tokens3 = [token for token in tokens2 if token.strip()]\n",
    "    return tokens3"
   ]
  },
  {
   "cell_type": "code",
   "execution_count": 62,
   "metadata": {},
   "outputs": [
    {
     "data": {
      "text/plain": [
       "['experimental', 'fly', 'design']"
      ]
     },
     "execution_count": 62,
     "metadata": {},
     "output_type": "execute_result"
    }
   ],
   "source": [
    "preprocess_query(\"experimental fly design\")"
   ]
  },
  {
   "cell_type": "code",
   "execution_count": null,
   "metadata": {},
   "outputs": [],
   "source": []
  },
  {
   "cell_type": "code",
   "execution_count": 78,
   "metadata": {},
   "outputs": [
    {
     "name": "stdout",
     "output_type": "stream",
     "text": [
      "Query 1: investigation AND experimental\n",
      "Number of documents retrieved for query 1: 89\n",
      "Names of documents retrieved for query 1: cranfield0001.txt, cranfield0019.txt, cranfield0029.txt, cranfield0030.txt, cranfield0074.txt, cranfield0078.txt, cranfield0084.txt, cranfield0170.txt, cranfield0173.txt, cranfield0176.txt, cranfield0179.txt, cranfield0184.txt, cranfield0187.txt, cranfield0188.txt, cranfield0189.txt, cranfield0197.txt, cranfield0202.txt, cranfield0207.txt, cranfield0212.txt, cranfield0216.txt, cranfield0222.txt, cranfield0225.txt, cranfield0245.txt, cranfield0251.txt, cranfield0294.txt, cranfield0339.txt, cranfield0372.txt, cranfield0423.txt, cranfield0427.txt, cranfield0442.txt, cranfield0462.txt, cranfield0497.txt, cranfield0505.txt, cranfield0522.txt, cranfield0549.txt, cranfield0552.txt, cranfield0567.txt, cranfield0569.txt, cranfield0634.txt, cranfield0635.txt, cranfield0636.txt, cranfield0662.txt, cranfield0689.txt, cranfield0694.txt, cranfield0712.txt, cranfield0713.txt, cranfield0739.txt, cranfield0766.txt, cranfield0772.txt, cranfield0801.txt, cranfield0816.txt, cranfield0836.txt, cranfield0844.txt, cranfield0858.txt, cranfield0887.txt, cranfield0907.txt, cranfield0927.txt, cranfield0932.txt, cranfield0946.txt, cranfield0959.txt, cranfield0986.txt, cranfield0996.txt, cranfield0997.txt, cranfield1019.txt, cranfield1039.txt, cranfield1062.txt, cranfield1066.txt, cranfield1074.txt, cranfield1075.txt, cranfield1078.txt, cranfield1083.txt, cranfield1092.txt, cranfield1097.txt, cranfield1098.txt, cranfield1156.txt, cranfield1159.txt, cranfield1161.txt, cranfield1205.txt, cranfield1213.txt, cranfield1220.txt, cranfield1225.txt, cranfield1227.txt, cranfield1230.txt, cranfield1231.txt, cranfield1337.txt, cranfield1338.txt, cranfield1341.txt, cranfield1352.txt, cranfield1364.txt\n",
      "Number of comparisions required for query 1: 441\n"
     ]
    }
   ],
   "source": [
    "doc_names=os.listdir(\"Q1_2_output\")\n",
    "queries=int(input())\n",
    "for i in range(1,queries+1):\n",
    "    query=input()\n",
    "    query=preprocess_query(query)\n",
    "    # print(query)\n",
    "    operations=input().split(',')\n",
    "    # print(operations)\n",
    "    q_ptr=1\n",
    "    o_ptr=0\n",
    "    answer=None\n",
    "    if(query[0] in inv_idx_postings.keys()):\n",
    "        answer=inv_idx_postings[query[0]]\n",
    "    else:\n",
    "        answer=[]\n",
    "    comparisions=0\n",
    "    prt_query=query[0]\n",
    "    while(q_ptr<len(query) and o_ptr<len(operations)):\n",
    "        prt_query+=\" \"+operations[o_ptr]+\" \"+query[q_ptr]\n",
    "        T2=query[q_ptr]\n",
    "        operation=operations[o_ptr]\n",
    "\n",
    "        T2_postings=None\n",
    "        if(T2 in inv_idx_postings.keys()):\n",
    "            T2_postings=inv_idx_postings[T2]\n",
    "        else:\n",
    "            T2_postings=[]\n",
    "\n",
    "        if operation==\"AND\":\n",
    "            answer,temp=t1_and_t2(answer, T2_postings)\n",
    "            comparisions+=temp\n",
    "        elif operation==\"OR\":\n",
    "            answer,temp=t1_or_t2(answer, T2_postings)\n",
    "            comparisions+=temp\n",
    "        elif operation==\"AND NOT\":\n",
    "            answer,temp=t1_and_not_t2(answer, T2_postings)\n",
    "            comparisions+=temp\n",
    "        elif operation==\"OR NOT\":\n",
    "            answer,temp=t1_or_not_t2(answer, T2_postings)\n",
    "            comparisions+=temp\n",
    "        q_ptr+=1\n",
    "        o_ptr+=1\n",
    "        # print(answer, comparisions)\n",
    "    print(f\"Query {i}:\",prt_query)\n",
    "    print(f\"Number of documents retrieved for query {i}:\",len(answer))\n",
    "    names=\", \".join([doc_names[id-1]+\".txt\" for id in answer])\n",
    "    print(f\"Names of documents retrieved for query {i}:\",names)\n",
    "    print(f\"Number of comparisions required for query {i}:\",comparisions)"
   ]
  },
  {
   "cell_type": "code",
   "execution_count": null,
   "metadata": {},
   "outputs": [],
   "source": [
    "1\n",
    "investigation of experimental\n",
    "AND,AND"
   ]
  }
 ],
 "metadata": {
  "kernelspec": {
   "display_name": "benv",
   "language": "python",
   "name": "python3"
  },
  "language_info": {
   "codemirror_mode": {
    "name": "ipython",
    "version": 3
   },
   "file_extension": ".py",
   "mimetype": "text/x-python",
   "name": "python",
   "nbconvert_exporter": "python",
   "pygments_lexer": "ipython3",
   "version": "3.9.7"
  },
  "orig_nbformat": 4,
  "vscode": {
   "interpreter": {
    "hash": "a9509631f6d892f4e9e996ac093b0c5f431d646c0c87d4a83f341ba5e921b848"
   }
  }
 },
 "nbformat": 4,
 "nbformat_minor": 2
}
