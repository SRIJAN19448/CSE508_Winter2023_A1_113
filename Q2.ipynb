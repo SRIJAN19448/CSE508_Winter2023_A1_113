{
 "cells": [
  {
   "cell_type": "code",
   "execution_count": 1,
   "metadata": {},
   "outputs": [
    {
     "name": "stderr",
     "output_type": "stream",
     "text": [
      "c:\\Users\\srija\\anaconda3\\lib\\site-packages\\scipy\\__init__.py:138: UserWarning: A NumPy version >=1.16.5 and <1.23.0 is required for this version of SciPy (detected version 1.23.5)\n",
      "  warnings.warn(f\"A NumPy version >={np_minversion} and <{np_maxversion} is required for this version of \"\n"
     ]
    }
   ],
   "source": [
    "import os\n",
    "from nltk.tokenize import word_tokenize\n",
    "from nltk.corpus import stopwords\n",
    "import string\n",
    "from collections import defaultdict\n",
    "import ast\n",
    "from tqdm.notebook import tqdm as tqdm\n",
    "import pickle\n",
    "import contractions"
   ]
  },
  {
   "attachments": {},
   "cell_type": "markdown",
   "metadata": {},
   "source": [
    "# Creating Inverted Index"
   ]
  },
  {
   "cell_type": "code",
   "execution_count": 31,
   "metadata": {},
   "outputs": [],
   "source": [
    "def helper(inv_idx_freq, inv_idx_postings, set_of_tokens, docID):\n",
    "    for j in set_of_tokens:\n",
    "        inv_idx_postings[j].append(docID)\n",
    "        inv_idx_freq[j] = inv_idx_freq[j] + 1\n",
    "        \n",
    "        "
   ]
  },
  {
   "cell_type": "code",
   "execution_count": 32,
   "metadata": {},
   "outputs": [
    {
     "data": {
      "application/vnd.jupyter.widget-view+json": {
       "model_id": "f47c207e9ba649bdb079e8ffecf08a5d",
       "version_major": 2,
       "version_minor": 0
      },
      "text/plain": [
       "  0%|          | 0/1400 [00:00<?, ?it/s]"
      ]
     },
     "metadata": {},
     "output_type": "display_data"
    }
   ],
   "source": [
    "inv_idx_freq  = defaultdict(int) # initializing the doc Frequency dictionary as a default dict which return 0 whenver a key does not exists.\n",
    "inv_idx_postings  = defaultdict(list) # intializing the postings dictionary to return an empty list whenever it is invoked for a key that does not exits.\n",
    "sample = 5\n",
    "docIDs = []\n",
    "folder_path = 'Q1_2_output'\n",
    "for filename in tqdm(os.listdir(folder_path)):\n",
    "    file_path = os.path.join(folder_path, filename)\n",
    "    if os.path.isfile(file_path):\n",
    "        with open(file_path, 'r') as file:\n",
    "            contents = file.read()\n",
    "            docID = int(filename[-4:])\n",
    "            docIDs.append(docID)\n",
    "            # print(docID)\n",
    "            # set_of_tokens = set(contents.strip('][').split(','))\n",
    "            set_of_tokens = set(ast.literal_eval(contents))\n",
    "            helper(inv_idx_freq, inv_idx_postings, set_of_tokens, docID)\n",
    "            # print(f'{filename}: {contents}')\n",
    "            # print(set_of_tokens)\n",
    "            # sample -= 1\n",
    "            # if (sample == 0):\n",
    "            #     break\n",
    "\n",
    "\n",
    "#sort the index in alphabetical order wrt terms\n",
    "inv_idx_postings = dict(sorted(inv_idx_postings.items()))\n",
    "inv_idx_freq = dict(sorted(inv_idx_freq.items()))\n",
    "\n",
    "for key in inv_idx_postings:\n",
    "    inv_idx_postings[key].sort() #sort the indivdual posting lists correponging to each term in the index\n"
   ]
  },
  {
   "attachments": {},
   "cell_type": "markdown",
   "metadata": {},
   "source": [
    "# Saving Inverted Index"
   ]
  },
  {
   "cell_type": "code",
   "execution_count": 33,
   "metadata": {},
   "outputs": [],
   "source": [
    "pickle.dump(inv_idx_postings, open('inv_idx_postings.pkl', 'wb'))\n",
    "pickle.dump(inv_idx_freq, open('inv_idx_freq.pkl', 'wb'))"
   ]
  },
  {
   "attachments": {},
   "cell_type": "markdown",
   "metadata": {},
   "source": [
    "# Inverted Index Operation Functions"
   ]
  },
  {
   "cell_type": "code",
   "execution_count": 2,
   "metadata": {},
   "outputs": [],
   "source": [
    "def t1_and_t2(posting1, posting2):\n",
    "  \n",
    "  # if any of the postings is empty then their intersection will also be an empty list\n",
    "  if len(posting1) == 0 or len(posting2) == 0:\n",
    "    return [], 0\n",
    "\n",
    "  ptr1 = 0 #pointer that iterates over posting 1\n",
    "  ptr2 = 0 #pointer that iterates over posting 2\n",
    "\n",
    "  comparisons = 0 #intialize number of comparison as 0\n",
    "  ans = []\n",
    "\n",
    "\n",
    "  while ptr1 < len(posting1) and ptr2 < len(posting2):\n",
    "    comparisons += 1 \n",
    "    if posting1[ptr1] ==  posting2[ptr2]: # this means that both the docs contains the word.\n",
    "      ans.append(posting1[ptr1])\n",
    "      ptr1 = ptr1 + 1\n",
    "      ptr2 = ptr2 + 1\n",
    "\n",
    "    elif posting1[ptr1] <  posting2[ptr2]:\n",
    "      ptr1 = ptr1 + 1\n",
    "    \n",
    "    else:\n",
    "      ptr2 = ptr2 + 1\n",
    "\n",
    "  return ans, comparisons\n"
   ]
  },
  {
   "cell_type": "code",
   "execution_count": 3,
   "metadata": {},
   "outputs": [],
   "source": [
    "# def not_t1(posting1):\n",
    "#     global docIDs\n",
    "#     ans = [] # to store all the docIDs except that are their in postings1\n",
    "\n",
    "#     for i in docIDs:\n",
    "#         if i in posting1:\n",
    "#             continue\n",
    "#         else:\n",
    "#             ans.append(i)\n",
    "#     return ans\n",
    "    "
   ]
  },
  {
   "cell_type": "code",
   "execution_count": 4,
   "metadata": {},
   "outputs": [],
   "source": [
    "# def t1_and_not_t2(posting1, posting2):\n",
    "#     # if the first posting is empty then the intersection will also be an empty list\n",
    "#     if len(posting1) == 0: \n",
    "#         return [], 0\n",
    "\n",
    "#     if len(posting2) == 0:\n",
    "#         return posting1, len(posting1)\n",
    "    \n",
    "#     # perform not query for posting2\n",
    "#     not_posting2 = not_t1(posting2)\n",
    "\n",
    "#     # now perform the and operation for posting1 and not_posting2\n",
    "#     ans, comparisons = t1_and_t2(posting1, not_posting2)\n",
    "#     return ans, comparisons\n",
    "    \n",
    "def t1_and_not_t2(posting1, posting2):\n",
    "    ptr1 = 0 #pointer that iterates over posting 1\n",
    "    ptr2 = 0 #pointer that iterates over posting 2\n",
    "\n",
    "    comparisons = 0 #intialize number of comparison as 0\n",
    "    ans = []\n",
    "\n",
    "    while ptr1 < len(posting1) and ptr2 < len(posting2):\n",
    "        comparisons += 1\n",
    "\n",
    "        if posting1[ptr1] == posting2[ptr2]: \n",
    "            ptr1+=1\n",
    "            ptr2+=1\n",
    "            continue\n",
    "        elif posting1[ptr1] < posting2[ptr2]:\n",
    "            ans.append( posting1[ptr1] )\n",
    "            ptr1+=1\n",
    "\n",
    "        else:\n",
    "            ptr2+=1\n",
    "\n",
    "    while ptr1 < len(posting1):\n",
    "        ans.append(posting1[ptr1])\n",
    "        ptr1+=1\n",
    "\n",
    "    return ans, comparisons\n"
   ]
  },
  {
   "cell_type": "code",
   "execution_count": 5,
   "metadata": {},
   "outputs": [],
   "source": [
    "def not_t1(posting1):\n",
    "    global docIDs\n",
    "    ans, comparisons = t1_and_not_t2(docIDs, posting1)\n",
    "    return ans, comparisons\n",
    "\n",
    "    "
   ]
  },
  {
   "cell_type": "code",
   "execution_count": 6,
   "metadata": {},
   "outputs": [],
   "source": [
    "def t1_or_t2(posting1, posting2):\n",
    "\n",
    "    #if any of the posting list is empty we will return the other list.\n",
    "    if len(posting1) == 0 :\n",
    "        return posting2, 0\n",
    "    if len(posting2) == 0:\n",
    "        return posting1, 0\n",
    "        \n",
    "    ptr1 = 0 #pointer that iterates over posting 1\n",
    "    ptr2 = 0 #pointer that iterates over posting 2\n",
    "\n",
    "    comparisons = 0 #intialize number of comparison as 0\n",
    "    ans = []\n",
    "\n",
    "    while ptr1 < len(posting1) and ptr2 < len(posting2):\n",
    "        comparisons+=1\n",
    "        if posting1[ptr1] < posting2[ptr2]:\n",
    "            ans.append(posting1[ptr1]) \n",
    "            ptr1+=1\n",
    "        elif posting2[ptr2] < posting1[ptr1]  :\n",
    "            ans.append(posting2[ptr2])\n",
    "            ptr2+=1\n",
    "        else:\n",
    "            ans.append(posting2[ptr2])\n",
    "            ptr1+=1\n",
    "            ptr2+=1\n",
    "\n",
    "    while(ptr1 < len(posting1)):\n",
    "        ans.append( posting1[ptr1] )\n",
    "        ptr1+=1\n",
    "    \n",
    "    while(ptr2 < len(posting2)):\n",
    "        ans.append( posting2[ptr2] )\n",
    "        ptr2+=1\n",
    "    \n",
    "    return ans, comparisons"
   ]
  },
  {
   "cell_type": "code",
   "execution_count": 7,
   "metadata": {},
   "outputs": [],
   "source": [
    "def t1_or_not_t2(posting1, posting2):\n",
    "    # here we need to take the not of posting2 and then do an or with posting 1\n",
    "\n",
    "    if len(posting1) == 0: #if the first posting list is empty we will return the not of the other list.\n",
    "        return not_t1(posting2)\n",
    "    \n",
    "    not_posting2, comparisons1 = not_t1(posting2)\n",
    "\n",
    "    ans, comparisons = t1_or_t2(posting1, not_posting2)\n",
    "    return ans, comparisons +  comparisons1"
   ]
  },
  {
   "attachments": {},
   "cell_type": "markdown",
   "metadata": {},
   "source": [
    "# Loading Inverted Index"
   ]
  },
  {
   "cell_type": "code",
   "execution_count": 10,
   "metadata": {},
   "outputs": [],
   "source": [
    "inv_idx_postings = pickle.load(open(\"inv_idx_postings.pkl\", 'rb'))\n",
    "inv_idx_freq = pickle.load(open(\"inv_idx_freq.pkl\", 'rb'))"
   ]
  },
  {
   "attachments": {},
   "cell_type": "markdown",
   "metadata": {},
   "source": [
    "# Query preprocessing"
   ]
  },
  {
   "cell_type": "code",
   "execution_count": 11,
   "metadata": {},
   "outputs": [],
   "source": [
    "def remove_punc(token):\n",
    "    translator = str.maketrans('', '', string.punctuation)\n",
    "    return token.translate(translator)"
   ]
  },
  {
   "cell_type": "code",
   "execution_count": 12,
   "metadata": {},
   "outputs": [],
   "source": [
    "def preprocess_query(query):\n",
    "    content1 = query.lower()\n",
    "    content1 = contractions.fix(content1)\n",
    "    tokens = word_tokenize(content1)\n",
    "    stop_words = set(stopwords.words(\"english\"))\n",
    "    tokens1 = [token for token in tokens if token not in stop_words]\n",
    "    tokens2 = list(map(remove_punc, tokens1))\n",
    "    tokens3 = [token for token in tokens2 if token.strip()]\n",
    "    return tokens3"
   ]
  },
  {
   "attachments": {},
   "cell_type": "markdown",
   "metadata": {},
   "source": [
    "# Query Matching"
   ]
  },
  {
   "cell_type": "code",
   "execution_count": 22,
   "metadata": {},
   "outputs": [
    {
     "name": "stdout",
     "output_type": "stream",
     "text": [
      "Query 1: investigation AND experimental AND wing\n",
      "Number of documents retrieved for query 1: 19\n",
      "Names of documents retrieved for query 1: cranfield0001.txt, cranfield0030.txt, cranfield0078.txt, cranfield0189.txt, cranfield0202.txt, cranfield0222.txt, cranfield0225.txt, cranfield0442.txt, cranfield0497.txt, cranfield0636.txt, cranfield0694.txt, cranfield0712.txt, cranfield1062.txt, cranfield1074.txt, cranfield1075.txt, cranfield1092.txt, cranfield1337.txt, cranfield1338.txt, cranfield1341.txt\n",
      "Number of comparisions required for query 1: 679\n"
     ]
    }
   ],
   "source": [
    "docIDs=[ i for i in range(1,1401)]\n",
    "doc_names=os.listdir(\"Q1_2_output\")\n",
    "queries=int(input())\n",
    "for i in range(1,queries+1):\n",
    "    query=input()\n",
    "    query=preprocess_query(query)\n",
    "    # print(query)\n",
    "    operations=input().split(',')\n",
    "    operations=[operation.strip() for operation in operations]\n",
    "    # print(operations)\n",
    "    q_ptr=1\n",
    "    o_ptr=0\n",
    "    answer=None\n",
    "    if(query[0] in inv_idx_postings.keys()):\n",
    "        answer=inv_idx_postings[query[0]]\n",
    "    else:\n",
    "        answer=[]\n",
    "    comparisions=0\n",
    "    prt_query=query[0]\n",
    "    while(q_ptr<len(query) and o_ptr<len(operations)):\n",
    "        prt_query+=\" \"+operations[o_ptr]+\" \"+query[q_ptr]\n",
    "        T2=query[q_ptr]\n",
    "        operation=operations[o_ptr]\n",
    "\n",
    "        T2_postings=None\n",
    "        if(T2 in inv_idx_postings.keys()):\n",
    "            T2_postings=inv_idx_postings[T2]\n",
    "        else:\n",
    "            T2_postings=[]\n",
    "\n",
    "        if operation==\"AND\":\n",
    "            answer,temp=t1_and_t2(answer, T2_postings)\n",
    "            comparisions+=temp\n",
    "        elif operation==\"OR\":\n",
    "            answer,temp=t1_or_t2(answer, T2_postings)\n",
    "            comparisions+=temp\n",
    "        elif operation==\"AND NOT\":\n",
    "            answer,temp=t1_and_not_t2(answer, T2_postings)\n",
    "            comparisions+=temp\n",
    "        elif operation==\"OR NOT\":\n",
    "            answer,temp=t1_or_not_t2(answer, T2_postings)\n",
    "            comparisions+=temp\n",
    "        q_ptr+=1\n",
    "        o_ptr+=1\n",
    "        # print(answer)\n",
    "    print(f\"Query {i}:\",prt_query)\n",
    "    print(f\"Number of documents retrieved for query {i}:\",len(answer))\n",
    "    names=\", \".join([doc_names[id-1]+\".txt\" for id in answer])\n",
    "    print(f\"Names of documents retrieved for query {i}:\",names)\n",
    "    print(f\"Number of comparisons required for query {i}:\",comparisions)"
   ]
  },
  {
   "cell_type": "code",
   "execution_count": null,
   "metadata": {},
   "outputs": [],
   "source": []
  }
 ],
 "metadata": {
  "kernelspec": {
   "display_name": "base",
   "language": "python",
   "name": "python3"
  },
  "language_info": {
   "codemirror_mode": {
    "name": "ipython",
    "version": 3
   },
   "file_extension": ".py",
   "mimetype": "text/x-python",
   "name": "python",
   "nbconvert_exporter": "python",
   "pygments_lexer": "ipython3",
   "version": "3.8.8"
  },
  "orig_nbformat": 4,
  "vscode": {
   "interpreter": {
    "hash": "1fe1fbd972c9c9e41d52b71eaeb7501ba05f317696360d05aa1bc95d167ae166"
   }
  }
 },
 "nbformat": 4,
 "nbformat_minor": 2
}
