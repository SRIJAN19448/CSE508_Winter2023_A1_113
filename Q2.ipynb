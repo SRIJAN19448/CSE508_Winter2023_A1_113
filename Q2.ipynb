{
 "cells": [
  {
   "cell_type": "code",
   "execution_count": 1,
   "metadata": {},
   "outputs": [],
   "source": [
    "import zipfile\n",
    "import os\n",
    "from bs4 import BeautifulSoup\n",
    "from nltk.tokenize import word_tokenize\n",
    "from nltk.corpus import stopwords\n",
    "import string\n",
    "from collections import defaultdict\n",
    "import ast\n",
    "from tqdm.notebook import tqdm as tqdm\n",
    "import pickle\n",
    "import contractions"
   ]
  },
  {
   "cell_type": "code",
   "execution_count": 2,
   "metadata": {},
   "outputs": [],
   "source": [
    "def helper(inv_idx_freq, inv_idx_postings, set_of_tokens, docID):\n",
    "    for j in set_of_tokens:\n",
    "        inv_idx_postings[j].append(docID)\n",
    "        inv_idx_freq[j] = inv_idx_freq[j] + 1\n",
    "        \n",
    "        "
   ]
  },
  {
   "cell_type": "code",
   "execution_count": 3,
   "metadata": {},
   "outputs": [],
   "source": [
    "def t1_and_t2(posting1, posting2):\n",
    "  \n",
    "  # if any of the postings is empty then their intersection will also be an empty list\n",
    "  if len(posting1) == 0 or len(posting2) == 0:\n",
    "    return [], 0\n",
    "\n",
    "  ptr1 = 0 #pointer that iterates over posting 1\n",
    "  ptr2 = 0 #pointer that iterates over posting 2\n",
    "\n",
    "  comparisons = 0 #intialize number of comparison as 0\n",
    "  ans = []\n",
    "\n",
    "\n",
    "  while ptr1 < len(posting1) and ptr2 < len(posting2):\n",
    "    comparisons += 1 \n",
    "    if posting1[ptr1] ==  posting2[ptr2]: # this means that both the docs contains the word.\n",
    "      ans.append(posting1[ptr1])\n",
    "      ptr1 = ptr1 + 1\n",
    "      ptr2 = ptr2 + 1\n",
    "\n",
    "    elif posting1[ptr1] <  posting2[ptr2]:\n",
    "      ptr1 = ptr1 + 1\n",
    "    \n",
    "    else:\n",
    "      ptr2 = ptr2 + 1\n",
    "\n",
    "  return ans, comparisons\n"
   ]
  },
  {
   "cell_type": "code",
   "execution_count": 4,
   "metadata": {},
   "outputs": [],
   "source": [
    "# def not_t1(posting1):\n",
    "#     global docIDs\n",
    "#     ans = [] # to store all the docIDs except that are their in postings1\n",
    "\n",
    "#     for i in docIDs:\n",
    "#         if i in posting1:\n",
    "#             continue\n",
    "#         else:\n",
    "#             ans.append(i)\n",
    "#     return ans\n",
    "    \n",
    "\n",
    "    "
   ]
  },
  {
   "cell_type": "code",
   "execution_count": 5,
   "metadata": {},
   "outputs": [],
   "source": [
    "# def t1_and_not_t2(posting1, posting2):\n",
    "#     # if the first posting is empty then the intersection will also be an empty list\n",
    "#     if len(posting1) == 0: \n",
    "#         return [], 0\n",
    "\n",
    "#     if len(posting2) == 0:\n",
    "#         return posting1, len(posting1)\n",
    "    \n",
    "#     # perform not query for posting2\n",
    "#     not_posting2 = not_t1(posting2)\n",
    "\n",
    "#     # now perform the and operation for posting1 and not_posting2\n",
    "#     ans, comparisons = t1_and_t2(posting1, not_posting2)\n",
    "#     return ans, comparisons\n",
    "    \n",
    "def t1_and_not_t2(posting1, posting2):\n",
    "    ptr1 = 0 #pointer that iterates over posting 1\n",
    "    ptr2 = 0 #pointer that iterates over posting 2\n",
    "\n",
    "    comparisons = 0 #intialize number of comparison as 0\n",
    "    ans = []\n",
    "\n",
    "    while ptr1 < len(posting1) and ptr2 < len(posting2):\n",
    "        comparisons += 1\n",
    "\n",
    "        if posting1[ptr1] == posting2[ptr2]: \n",
    "            ptr1+=1\n",
    "            ptr2+=1\n",
    "            continue\n",
    "        elif posting1[ptr1] < posting2[ptr2]:\n",
    "            ans.append( posting1[ptr1] )\n",
    "            ptr1+=1\n",
    "\n",
    "        else:\n",
    "            ptr2+=1\n",
    "\n",
    "    while ptr1 < len(posting1):\n",
    "        ans.append(posting1[ptr1])\n",
    "        ptr1+=1\n",
    "\n",
    "    return ans, comparisons\n",
    "\n",
    "        \n",
    "\n",
    "    \n",
    "\n",
    "\n"
   ]
  },
  {
   "cell_type": "code",
   "execution_count": 6,
   "metadata": {},
   "outputs": [],
   "source": [
    "def not_t1(posting1):\n",
    "    global docIDs\n",
    "    ans, comparisons = t1_and_not_t2(docIDs, posting1)\n",
    "    return ans, comparisons\n",
    "\n",
    "    "
   ]
  },
  {
   "cell_type": "code",
   "execution_count": 7,
   "metadata": {},
   "outputs": [],
   "source": [
    "def t1_or_t2(posting1, posting2):\n",
    "\n",
    "    #if any of the posting list is empty we will return the other list.\n",
    "    if len(posting1) == 0 :\n",
    "        return posting2, 0\n",
    "    if len(posting2) == 0:\n",
    "        return posting1, 0\n",
    "        \n",
    "    ptr1 = 0 #pointer that iterates over posting 1\n",
    "    ptr2 = 0 #pointer that iterates over posting 2\n",
    "\n",
    "    comparisons = 0 #intialize number of comparison as 0\n",
    "    ans = []\n",
    "\n",
    "    while ptr1 < len(posting1) and ptr2 < len(posting2):\n",
    "        comparisons+=1\n",
    "        if posting1[ptr1] < posting2[ptr2]:\n",
    "            ans.append(posting1[ptr1]) \n",
    "            ptr1+=1\n",
    "        elif posting2[ptr2] < posting1[ptr1]  :\n",
    "            ans.append(posting2[ptr2])\n",
    "            ptr2+=1\n",
    "        else:\n",
    "            ans.append(posting2[ptr2])\n",
    "            ptr1+=1\n",
    "            ptr2+=1\n",
    "\n",
    "    while(ptr1 < len(posting1)):\n",
    "        ans.append( posting1[ptr1] )\n",
    "        ptr1+=1\n",
    "    \n",
    "    while(ptr2 < len(posting2)):\n",
    "        ans.append( posting2[ptr2] )\n",
    "        ptr2+=1\n",
    "    \n",
    "    return ans, comparisons\n",
    "\n",
    "\n",
    "        \n",
    "\n",
    "\n"
   ]
  },
  {
   "cell_type": "code",
   "execution_count": 8,
   "metadata": {},
   "outputs": [],
   "source": [
    "def t1_or_not_t2(posting1, posting2):\n",
    "    # here we need to take the not of posting2 and then do an or with posting 1\n",
    "\n",
    "    if len(posting1) == 0: #if the first posting list is empty we will return the not of the other list.\n",
    "        return not_t1(posting2)\n",
    "    \n",
    "    not_posting2, comparisons1 = not_t1(posting2)\n",
    "\n",
    "    ans, comparisons = t1_or_t2(posting1, not_posting2)\n",
    "    return ans, comparisons +  comparisons1\n",
    "\n",
    "    \n",
    "    "
   ]
  },
  {
   "cell_type": "code",
   "execution_count": 9,
   "metadata": {},
   "outputs": [],
   "source": [
    "# l1 = [1,2,3,4]\n",
    "# l2 = [2,3,7,9,19]\n",
    "# a, b = t1_or_not_t2(l1,l2)\n",
    "# print(a)"
   ]
  },
  {
   "cell_type": "code",
   "execution_count": 10,
   "metadata": {},
   "outputs": [
    {
     "data": {
      "application/vnd.jupyter.widget-view+json": {
       "model_id": "bcf8c1d7622446cabb329f4968aacfcb",
       "version_major": 2,
       "version_minor": 0
      },
      "text/plain": [
       "  0%|          | 0/1400 [00:00<?, ?it/s]"
      ]
     },
     "metadata": {},
     "output_type": "display_data"
    }
   ],
   "source": [
    "inv_idx_freq  = defaultdict(int) # initializing the doc Frequency dictionary as a default dict which return 0 whenver a key does not exists.\n",
    "inv_idx_postings  = defaultdict(list) # intializing the postings dictionary to return an empty list whenever it is invoked for a key that does not exits.\n",
    "sample = 5\n",
    "docIDs = []\n",
    "folder_path = 'Q1_2_output'\n",
    "for filename in tqdm(os.listdir(folder_path)):\n",
    "    file_path = os.path.join(folder_path, filename)\n",
    "    if os.path.isfile(file_path):\n",
    "        with open(file_path, 'r') as file:\n",
    "            contents = file.read()\n",
    "            docID = int(filename[-4:])\n",
    "            docIDs.append(docID)\n",
    "            # print(docID)\n",
    "            # set_of_tokens = set(contents.strip('][').split(','))\n",
    "            set_of_tokens = set(ast.literal_eval(contents))\n",
    "            helper(inv_idx_freq, inv_idx_postings, set_of_tokens, docID)\n",
    "            # print(f'{filename}: {contents}')\n",
    "            # print(set_of_tokens)\n",
    "            # sample -= 1\n",
    "            # if (sample == 0):\n",
    "            #     break\n",
    "\n",
    "\n",
    "#sort the index in alphabetical order wrt terms\n",
    "inv_idx_postings = dict(sorted(inv_idx_postings.items()))\n",
    "inv_idx_freq = dict(sorted(inv_idx_freq.items()))\n",
    "\n",
    "for key in inv_idx_postings:\n",
    "    inv_idx_postings[key].sort() #sort the indivdual posting lists correponging to each term in the index\n"
   ]
  },
  {
   "cell_type": "code",
   "execution_count": 11,
   "metadata": {},
   "outputs": [],
   "source": [
    "pickle.dump(inv_idx_postings, open('inv_idx_postings.pkl', 'wb'))\n",
    "pickle.dump(inv_idx_freq, open('inv_idx_freq.pkl', 'wb'))"
   ]
  },
  {
   "cell_type": "code",
   "execution_count": 12,
   "metadata": {},
   "outputs": [],
   "source": [
    "inv_idx_postings = pickle.load(open(\"inv_idx_postings.pkl\", 'rb'))\n",
    "inv_idx_freq = pickle.load(open(\"inv_idx_freq.pkl\", 'rb'))"
   ]
  },
  {
   "cell_type": "markdown",
   "metadata": {},
   "source": []
  },
  {
   "cell_type": "code",
   "execution_count": 13,
   "metadata": {},
   "outputs": [],
   "source": [
    "# print(inv_idx_postings)"
   ]
  },
  {
   "cell_type": "code",
   "execution_count": 14,
   "metadata": {},
   "outputs": [
    {
     "name": "stdout",
     "output_type": "stream",
     "text": [
      "286\n"
     ]
    }
   ],
   "source": [
    "print(inv_idx_freq['surface'])"
   ]
  },
  {
   "attachments": {},
   "cell_type": "markdown",
   "metadata": {},
   "source": [
    "# Query preprocessing"
   ]
  },
  {
   "cell_type": "code",
   "execution_count": 15,
   "metadata": {},
   "outputs": [],
   "source": [
    "def remove_punc(token):\n",
    "    translator = str.maketrans('', '', string.punctuation)\n",
    "    return token.translate(translator)"
   ]
  },
  {
   "cell_type": "code",
   "execution_count": 16,
   "metadata": {},
   "outputs": [],
   "source": [
    "def preprocess_query(query):\n",
    "    content1 = query.lower()\n",
    "    content1 = contractions.fix(content1)\n",
    "    tokens = word_tokenize(content1)\n",
    "    stop_words = set(stopwords.words(\"english\"))\n",
    "    tokens1 = [token for token in tokens if token not in stop_words]\n",
    "    tokens2 = list(map(remove_punc, tokens1))\n",
    "    tokens3 = [token for token in tokens2 if token.strip()]\n",
    "    return tokens3"
   ]
  },
  {
   "cell_type": "code",
   "execution_count": 17,
   "metadata": {},
   "outputs": [
    {
     "data": {
      "text/plain": [
       "['experimental', 'fly', 'design']"
      ]
     },
     "execution_count": 17,
     "metadata": {},
     "output_type": "execute_result"
    }
   ],
   "source": [
    "preprocess_query(\"experimental fly design\")"
   ]
  },
  {
   "cell_type": "code",
   "execution_count": 20,
   "metadata": {},
   "outputs": [
    {
     "name": "stdout",
     "output_type": "stream",
     "text": [
      "Query 1: simply AND nominal OR NOT number\n",
      "Number of documents retrieved for query 1: 920\n",
      "Names of documents retrieved for query 1: cranfield0001.txt, cranfield0002.txt, cranfield0003.txt, cranfield0004.txt, cranfield0005.txt, cranfield0006.txt, cranfield0011.txt, cranfield0012.txt, cranfield0013.txt, cranfield0015.txt, cranfield0016.txt, cranfield0017.txt, cranfield0018.txt, cranfield0019.txt, cranfield0020.txt, cranfield0026.txt, cranfield0027.txt, cranfield0028.txt, cranfield0029.txt, cranfield0031.txt, cranfield0032.txt, cranfield0034.txt, cranfield0035.txt, cranfield0036.txt, cranfield0037.txt, cranfield0038.txt, cranfield0039.txt, cranfield0042.txt, cranfield0044.txt, cranfield0047.txt, cranfield0051.txt, cranfield0052.txt, cranfield0061.txt, cranfield0064.txt, cranfield0065.txt, cranfield0066.txt, cranfield0067.txt, cranfield0068.txt, cranfield0071.txt, cranfield0072.txt, cranfield0074.txt, cranfield0075.txt, cranfield0077.txt, cranfield0082.txt, cranfield0085.txt, cranfield0086.txt, cranfield0087.txt, cranfield0090.txt, cranfield0091.txt, cranfield0092.txt, cranfield0095.txt, cranfield0098.txt, cranfield0099.txt, cranfield0100.txt, cranfield0102.txt, cranfield0103.txt, cranfield0104.txt, cranfield0105.txt, cranfield0106.txt, cranfield0107.txt, cranfield0108.txt, cranfield0109.txt, cranfield0111.txt, cranfield0112.txt, cranfield0113.txt, cranfield0114.txt, cranfield0116.txt, cranfield0118.txt, cranfield0120.txt, cranfield0121.txt, cranfield0122.txt, cranfield0126.txt, cranfield0127.txt, cranfield0130.txt, cranfield0131.txt, cranfield0132.txt, cranfield0133.txt, cranfield0134.txt, cranfield0135.txt, cranfield0136.txt, cranfield0137.txt, cranfield0138.txt, cranfield0140.txt, cranfield0141.txt, cranfield0142.txt, cranfield0144.txt, cranfield0148.txt, cranfield0150.txt, cranfield0152.txt, cranfield0153.txt, cranfield0154.txt, cranfield0155.txt, cranfield0156.txt, cranfield0157.txt, cranfield0158.txt, cranfield0159.txt, cranfield0161.txt, cranfield0162.txt, cranfield0163.txt, cranfield0166.txt, cranfield0167.txt, cranfield0168.txt, cranfield0169.txt, cranfield0171.txt, cranfield0172.txt, cranfield0176.txt, cranfield0178.txt, cranfield0180.txt, cranfield0181.txt, cranfield0183.txt, cranfield0186.txt, cranfield0190.txt, cranfield0191.txt, cranfield0192.txt, cranfield0194.txt, cranfield0195.txt, cranfield0201.txt, cranfield0202.txt, cranfield0207.txt, cranfield0209.txt, cranfield0210.txt, cranfield0211.txt, cranfield0214.txt, cranfield0215.txt, cranfield0216.txt, cranfield0217.txt, cranfield0219.txt, cranfield0220.txt, cranfield0221.txt, cranfield0222.txt, cranfield0223.txt, cranfield0224.txt, cranfield0229.txt, cranfield0230.txt, cranfield0231.txt, cranfield0233.txt, cranfield0235.txt, cranfield0236.txt, cranfield0237.txt, cranfield0238.txt, cranfield0239.txt, cranfield0241.txt, cranfield0242.txt, cranfield0245.txt, cranfield0246.txt, cranfield0247.txt, cranfield0249.txt, cranfield0250.txt, cranfield0251.txt, cranfield0252.txt, cranfield0253.txt, cranfield0255.txt, cranfield0256.txt, cranfield0258.txt, cranfield0259.txt, cranfield0260.txt, cranfield0262.txt, cranfield0263.txt, cranfield0264.txt, cranfield0265.txt, cranfield0268.txt, cranfield0270.txt, cranfield0271.txt, cranfield0273.txt, cranfield0274.txt, cranfield0275.txt, cranfield0276.txt, cranfield0277.txt, cranfield0278.txt, cranfield0279.txt, cranfield0280.txt, cranfield0281.txt, cranfield0283.txt, cranfield0284.txt, cranfield0285.txt, cranfield0286.txt, cranfield0287.txt, cranfield0288.txt, cranfield0289.txt, cranfield0290.txt, cranfield0291.txt, cranfield0292.txt, cranfield0293.txt, cranfield0295.txt, cranfield0296.txt, cranfield0298.txt, cranfield0300.txt, cranfield0301.txt, cranfield0305.txt, cranfield0308.txt, cranfield0311.txt, cranfield0313.txt, cranfield0317.txt, cranfield0318.txt, cranfield0319.txt, cranfield0320.txt, cranfield0321.txt, cranfield0322.txt, cranfield0323.txt, cranfield0324.txt, cranfield0326.txt, cranfield0327.txt, cranfield0330.txt, cranfield0331.txt, cranfield0332.txt, cranfield0333.txt, cranfield0334.txt, cranfield0336.txt, cranfield0339.txt, cranfield0341.txt, cranfield0344.txt, cranfield0348.txt, cranfield0350.txt, cranfield0351.txt, cranfield0353.txt, cranfield0355.txt, cranfield0356.txt, cranfield0357.txt, cranfield0358.txt, cranfield0359.txt, cranfield0362.txt, cranfield0363.txt, cranfield0364.txt, cranfield0365.txt, cranfield0366.txt, cranfield0367.txt, cranfield0368.txt, cranfield0374.txt, cranfield0376.txt, cranfield0377.txt, cranfield0378.txt, cranfield0379.txt, cranfield0380.txt, cranfield0381.txt, cranfield0382.txt, cranfield0384.txt, cranfield0385.txt, cranfield0386.txt, cranfield0387.txt, cranfield0388.txt, cranfield0390.txt, cranfield0392.txt, cranfield0393.txt, cranfield0394.txt, cranfield0396.txt, cranfield0397.txt, cranfield0398.txt, cranfield0399.txt, cranfield0400.txt, cranfield0401.txt, cranfield0402.txt, cranfield0403.txt, cranfield0404.txt, cranfield0405.txt, cranfield0406.txt, cranfield0407.txt, cranfield0409.txt, cranfield0410.txt, cranfield0411.txt, cranfield0412.txt, cranfield0415.txt, cranfield0418.txt, cranfield0419.txt, cranfield0420.txt, cranfield0424.txt, cranfield0425.txt, cranfield0426.txt, cranfield0428.txt, cranfield0429.txt, cranfield0432.txt, cranfield0435.txt, cranfield0436.txt, cranfield0437.txt, cranfield0438.txt, cranfield0442.txt, cranfield0444.txt, cranfield0445.txt, cranfield0446.txt, cranfield0447.txt, cranfield0448.txt, cranfield0450.txt, cranfield0451.txt, cranfield0452.txt, cranfield0453.txt, cranfield0455.txt, cranfield0457.txt, cranfield0458.txt, cranfield0459.txt, cranfield0461.txt, cranfield0462.txt, cranfield0463.txt, cranfield0465.txt, cranfield0468.txt, cranfield0471.txt, cranfield0472.txt, cranfield0475.txt, cranfield0476.txt, cranfield0477.txt, cranfield0478.txt, cranfield0479.txt, cranfield0480.txt, cranfield0481.txt, cranfield0482.txt, cranfield0483.txt, cranfield0484.txt, cranfield0485.txt, cranfield0488.txt, cranfield0489.txt, cranfield0490.txt, cranfield0492.txt, cranfield0493.txt, cranfield0494.txt, cranfield0495.txt, cranfield0496.txt, cranfield0497.txt, cranfield0498.txt, cranfield0500.txt, cranfield0501.txt, cranfield0502.txt, cranfield0503.txt, cranfield0506.txt, cranfield0507.txt, cranfield0508.txt, cranfield0509.txt, cranfield0510.txt, cranfield0512.txt, cranfield0513.txt, cranfield0515.txt, cranfield0517.txt, cranfield0518.txt, cranfield0520.txt, cranfield0521.txt, cranfield0523.txt, cranfield0524.txt, cranfield0525.txt, cranfield0526.txt, cranfield0527.txt, cranfield0528.txt, cranfield0529.txt, cranfield0531.txt, cranfield0532.txt, cranfield0533.txt, cranfield0535.txt, cranfield0538.txt, cranfield0539.txt, cranfield0541.txt, cranfield0543.txt, cranfield0544.txt, cranfield0547.txt, cranfield0548.txt, cranfield0549.txt, cranfield0550.txt, cranfield0551.txt, cranfield0552.txt, cranfield0553.txt, cranfield0556.txt, cranfield0557.txt, cranfield0558.txt, cranfield0561.txt, cranfield0563.txt, cranfield0568.txt, cranfield0572.txt, cranfield0574.txt, cranfield0578.txt, cranfield0579.txt, cranfield0580.txt, cranfield0581.txt, cranfield0582.txt, cranfield0583.txt, cranfield0584.txt, cranfield0585.txt, cranfield0586.txt, cranfield0587.txt, cranfield0588.txt, cranfield0589.txt, cranfield0590.txt, cranfield0591.txt, cranfield0592.txt, cranfield0594.txt, cranfield0595.txt, cranfield0596.txt, cranfield0598.txt, cranfield0600.txt, cranfield0601.txt, cranfield0602.txt, cranfield0603.txt, cranfield0607.txt, cranfield0609.txt, cranfield0613.txt, cranfield0614.txt, cranfield0615.txt, cranfield0616.txt, cranfield0617.txt, cranfield0618.txt, cranfield0619.txt, cranfield0620.txt, cranfield0621.txt, cranfield0622.txt, cranfield0623.txt, cranfield0624.txt, cranfield0626.txt, cranfield0627.txt, cranfield0629.txt, cranfield0631.txt, cranfield0632.txt, cranfield0633.txt, cranfield0635.txt, cranfield0637.txt, cranfield0638.txt, cranfield0639.txt, cranfield0640.txt, cranfield0641.txt, cranfield0642.txt, cranfield0643.txt, cranfield0644.txt, cranfield0645.txt, cranfield0647.txt, cranfield0648.txt, cranfield0650.txt, cranfield0651.txt, cranfield0652.txt, cranfield0653.txt, cranfield0654.txt, cranfield0655.txt, cranfield0658.txt, cranfield0659.txt, cranfield0660.txt, cranfield0663.txt, cranfield0664.txt, cranfield0665.txt, cranfield0671.txt, cranfield0673.txt, cranfield0678.txt, cranfield0679.txt, cranfield0680.txt, cranfield0682.txt, cranfield0688.txt, cranfield0691.txt, cranfield0698.txt, cranfield0699.txt, cranfield0700.txt, cranfield0702.txt, cranfield0703.txt, cranfield0706.txt, cranfield0707.txt, cranfield0708.txt, cranfield0711.txt, cranfield0715.txt, cranfield0716.txt, cranfield0717.txt, cranfield0718.txt, cranfield0720.txt, cranfield0722.txt, cranfield0723.txt, cranfield0724.txt, cranfield0725.txt, cranfield0726.txt, cranfield0727.txt, cranfield0728.txt, cranfield0729.txt, cranfield0731.txt, cranfield0732.txt, cranfield0733.txt, cranfield0734.txt, cranfield0735.txt, cranfield0736.txt, cranfield0737.txt, cranfield0739.txt, cranfield0740.txt, cranfield0741.txt, cranfield0742.txt, cranfield0743.txt, cranfield0744.txt, cranfield0745.txt, cranfield0747.txt, cranfield0748.txt, cranfield0749.txt, cranfield0750.txt, cranfield0751.txt, cranfield0752.txt, cranfield0753.txt, cranfield0754.txt, cranfield0755.txt, cranfield0758.txt, cranfield0760.txt, cranfield0761.txt, cranfield0762.txt, cranfield0763.txt, cranfield0764.txt, cranfield0765.txt, cranfield0767.txt, cranfield0768.txt, cranfield0772.txt, cranfield0773.txt, cranfield0774.txt, cranfield0775.txt, cranfield0776.txt, cranfield0777.txt, cranfield0778.txt, cranfield0779.txt, cranfield0781.txt, cranfield0782.txt, cranfield0785.txt, cranfield0787.txt, cranfield0788.txt, cranfield0789.txt, cranfield0791.txt, cranfield0792.txt, cranfield0795.txt, cranfield0802.txt, cranfield0803.txt, cranfield0804.txt, cranfield0810.txt, cranfield0813.txt, cranfield0817.txt, cranfield0818.txt, cranfield0819.txt, cranfield0820.txt, cranfield0821.txt, cranfield0822.txt, cranfield0823.txt, cranfield0824.txt, cranfield0826.txt, cranfield0829.txt, cranfield0830.txt, cranfield0831.txt, cranfield0832.txt, cranfield0833.txt, cranfield0834.txt, cranfield0835.txt, cranfield0836.txt, cranfield0838.txt, cranfield0839.txt, cranfield0840.txt, cranfield0841.txt, cranfield0842.txt, cranfield0844.txt, cranfield0845.txt, cranfield0848.txt, cranfield0849.txt, cranfield0850.txt, cranfield0851.txt, cranfield0852.txt, cranfield0853.txt, cranfield0854.txt, cranfield0855.txt, cranfield0857.txt, cranfield0862.txt, cranfield0863.txt, cranfield0864.txt, cranfield0865.txt, cranfield0866.txt, cranfield0868.txt, cranfield0869.txt, cranfield0870.txt, cranfield0871.txt, cranfield0873.txt, cranfield0875.txt, cranfield0877.txt, cranfield0878.txt, cranfield0879.txt, cranfield0882.txt, cranfield0883.txt, cranfield0885.txt, cranfield0886.txt, cranfield0887.txt, cranfield0888.txt, cranfield0890.txt, cranfield0891.txt, cranfield0892.txt, cranfield0893.txt, cranfield0895.txt, cranfield0897.txt, cranfield0898.txt, cranfield0899.txt, cranfield0900.txt, cranfield0902.txt, cranfield0904.txt, cranfield0905.txt, cranfield0906.txt, cranfield0907.txt, cranfield0908.txt, cranfield0909.txt, cranfield0911.txt, cranfield0912.txt, cranfield0914.txt, cranfield0915.txt, cranfield0916.txt, cranfield0918.txt, cranfield0919.txt, cranfield0920.txt, cranfield0921.txt, cranfield0923.txt, cranfield0925.txt, cranfield0927.txt, cranfield0928.txt, cranfield0929.txt, cranfield0930.txt, cranfield0931.txt, cranfield0932.txt, cranfield0933.txt, cranfield0935.txt, cranfield0936.txt, cranfield0937.txt, cranfield0938.txt, cranfield0939.txt, cranfield0940.txt, cranfield0941.txt, cranfield0942.txt, cranfield0943.txt, cranfield0944.txt, cranfield0945.txt, cranfield0950.txt, cranfield0951.txt, cranfield0952.txt, cranfield0953.txt, cranfield0954.txt, cranfield0955.txt, cranfield0956.txt, cranfield0957.txt, cranfield0958.txt, cranfield0960.txt, cranfield0961.txt, cranfield0963.txt, cranfield0966.txt, cranfield0967.txt, cranfield0968.txt, cranfield0969.txt, cranfield0974.txt, cranfield0976.txt, cranfield0977.txt, cranfield0978.txt, cranfield0980.txt, cranfield0981.txt, cranfield0982.txt, cranfield0983.txt, cranfield0984.txt, cranfield0985.txt, cranfield0986.txt, cranfield0988.txt, cranfield0989.txt, cranfield0994.txt, cranfield0995.txt, cranfield0999.txt, cranfield1003.txt, cranfield1005.txt, cranfield1011.txt, cranfield1012.txt, cranfield1013.txt, cranfield1014.txt, cranfield1015.txt, cranfield1016.txt, cranfield1017.txt, cranfield1018.txt, cranfield1019.txt, cranfield1020.txt, cranfield1021.txt, cranfield1022.txt, cranfield1023.txt, cranfield1024.txt, cranfield1025.txt, cranfield1026.txt, cranfield1027.txt, cranfield1028.txt, cranfield1029.txt, cranfield1030.txt, cranfield1031.txt, cranfield1032.txt, cranfield1033.txt, cranfield1034.txt, cranfield1035.txt, cranfield1036.txt, cranfield1037.txt, cranfield1038.txt, cranfield1039.txt, cranfield1041.txt, cranfield1042.txt, cranfield1043.txt, cranfield1044.txt, cranfield1045.txt, cranfield1046.txt, cranfield1048.txt, cranfield1049.txt, cranfield1050.txt, cranfield1051.txt, cranfield1052.txt, cranfield1053.txt, cranfield1054.txt, cranfield1055.txt, cranfield1056.txt, cranfield1057.txt, cranfield1058.txt, cranfield1059.txt, cranfield1060.txt, cranfield1063.txt, cranfield1064.txt, cranfield1067.txt, cranfield1068.txt, cranfield1069.txt, cranfield1070.txt, cranfield1071.txt, cranfield1072.txt, cranfield1073.txt, cranfield1074.txt, cranfield1079.txt, cranfield1080.txt, cranfield1083.txt, cranfield1084.txt, cranfield1086.txt, cranfield1087.txt, cranfield1089.txt, cranfield1090.txt, cranfield1091.txt, cranfield1092.txt, cranfield1093.txt, cranfield1094.txt, cranfield1095.txt, cranfield1099.txt, cranfield1100.txt, cranfield1101.txt, cranfield1102.txt, cranfield1103.txt, cranfield1106.txt, cranfield1108.txt, cranfield1109.txt, cranfield1110.txt, cranfield1111.txt, cranfield1112.txt, cranfield1113.txt, cranfield1116.txt, cranfield1117.txt, cranfield1118.txt, cranfield1119.txt, cranfield1120.txt, cranfield1121.txt, cranfield1122.txt, cranfield1123.txt, cranfield1124.txt, cranfield1125.txt, cranfield1126.txt, cranfield1127.txt, cranfield1128.txt, cranfield1129.txt, cranfield1130.txt, cranfield1131.txt, cranfield1133.txt, cranfield1134.txt, cranfield1135.txt, cranfield1136.txt, cranfield1137.txt, cranfield1138.txt, cranfield1139.txt, cranfield1140.txt, cranfield1141.txt, cranfield1142.txt, cranfield1145.txt, cranfield1146.txt, cranfield1147.txt, cranfield1148.txt, cranfield1149.txt, cranfield1150.txt, cranfield1152.txt, cranfield1160.txt, cranfield1161.txt, cranfield1162.txt, cranfield1163.txt, cranfield1164.txt, cranfield1165.txt, cranfield1166.txt, cranfield1167.txt, cranfield1168.txt, cranfield1169.txt, cranfield1170.txt, cranfield1171.txt, cranfield1172.txt, cranfield1173.txt, cranfield1174.txt, cranfield1175.txt, cranfield1176.txt, cranfield1177.txt, cranfield1178.txt, cranfield1180.txt, cranfield1181.txt, cranfield1182.txt, cranfield1184.txt, cranfield1185.txt, cranfield1186.txt, cranfield1189.txt, cranfield1190.txt, cranfield1192.txt, cranfield1193.txt, cranfield1194.txt, cranfield1196.txt, cranfield1197.txt, cranfield1199.txt, cranfield1201.txt, cranfield1202.txt, cranfield1203.txt, cranfield1206.txt, cranfield1207.txt, cranfield1208.txt, cranfield1209.txt, cranfield1210.txt, cranfield1213.txt, cranfield1215.txt, cranfield1217.txt, cranfield1219.txt, cranfield1220.txt, cranfield1223.txt, cranfield1224.txt, cranfield1225.txt, cranfield1230.txt, cranfield1232.txt, cranfield1234.txt, cranfield1235.txt, cranfield1238.txt, cranfield1240.txt, cranfield1241.txt, cranfield1242.txt, cranfield1243.txt, cranfield1244.txt, cranfield1245.txt, cranfield1251.txt, cranfield1252.txt, cranfield1253.txt, cranfield1254.txt, cranfield1255.txt, cranfield1256.txt, cranfield1259.txt, cranfield1260.txt, cranfield1261.txt, cranfield1262.txt, cranfield1265.txt, cranfield1266.txt, cranfield1267.txt, cranfield1268.txt, cranfield1269.txt, cranfield1270.txt, cranfield1271.txt, cranfield1272.txt, cranfield1275.txt, cranfield1276.txt, cranfield1277.txt, cranfield1279.txt, cranfield1281.txt, cranfield1283.txt, cranfield1285.txt, cranfield1286.txt, cranfield1287.txt, cranfield1288.txt, cranfield1289.txt, cranfield1291.txt, cranfield1293.txt, cranfield1295.txt, cranfield1296.txt, cranfield1297.txt, cranfield1298.txt, cranfield1299.txt, cranfield1301.txt, cranfield1303.txt, cranfield1304.txt, cranfield1305.txt, cranfield1306.txt, cranfield1308.txt, cranfield1309.txt, cranfield1311.txt, cranfield1312.txt, cranfield1314.txt, cranfield1316.txt, cranfield1317.txt, cranfield1318.txt, cranfield1320.txt, cranfield1321.txt, cranfield1323.txt, cranfield1324.txt, cranfield1325.txt, cranfield1326.txt, cranfield1327.txt, cranfield1329.txt, cranfield1330.txt, cranfield1331.txt, cranfield1332.txt, cranfield1333.txt, cranfield1334.txt, cranfield1337.txt, cranfield1339.txt, cranfield1340.txt, cranfield1343.txt, cranfield1344.txt, cranfield1345.txt, cranfield1346.txt, cranfield1348.txt, cranfield1350.txt, cranfield1358.txt, cranfield1359.txt, cranfield1360.txt, cranfield1361.txt, cranfield1362.txt, cranfield1363.txt, cranfield1364.txt, cranfield1365.txt, cranfield1368.txt, cranfield1370.txt, cranfield1371.txt, cranfield1375.txt, cranfield1376.txt, cranfield1377.txt, cranfield1379.txt, cranfield1380.txt, cranfield1383.txt, cranfield1384.txt, cranfield1385.txt, cranfield1387.txt, cranfield1389.txt, cranfield1391.txt, cranfield1393.txt, cranfield1395.txt, cranfield1396.txt, cranfield1397.txt, cranfield1398.txt\n",
      "Number of comparisions required for query 1: 1446\n"
     ]
    }
   ],
   "source": [
    "doc_names=os.listdir(\"Q1_2_output\")\n",
    "queries=int(input())\n",
    "for i in range(1,queries+1):\n",
    "    query=input()\n",
    "    query=preprocess_query(query)\n",
    "    # print(query)\n",
    "    operations=input().split(',')\n",
    "    operations=[operation.strip() for operation in operations]\n",
    "    # print(operations)\n",
    "    q_ptr=1\n",
    "    o_ptr=0\n",
    "    answer=None\n",
    "    if(query[0] in inv_idx_postings.keys()):\n",
    "        answer=inv_idx_postings[query[0]]\n",
    "    else:\n",
    "        answer=[]\n",
    "    comparisions=0\n",
    "    prt_query=query[0]\n",
    "    while(q_ptr<len(query) and o_ptr<len(operations)):\n",
    "        prt_query+=\" \"+operations[o_ptr]+\" \"+query[q_ptr]\n",
    "        T2=query[q_ptr]\n",
    "        operation=operations[o_ptr]\n",
    "\n",
    "        T2_postings=None\n",
    "        if(T2 in inv_idx_postings.keys()):\n",
    "            T2_postings=inv_idx_postings[T2]\n",
    "        else:\n",
    "            T2_postings=[]\n",
    "\n",
    "        if operation==\"AND\":\n",
    "            answer,temp=t1_and_t2(answer, T2_postings)\n",
    "            comparisions+=temp\n",
    "        elif operation==\"OR\":\n",
    "            answer,temp=t1_or_t2(answer, T2_postings)\n",
    "            comparisions+=temp\n",
    "        elif operation==\"AND NOT\":\n",
    "            answer,temp=t1_and_not_t2(answer, T2_postings)\n",
    "            comparisions+=temp\n",
    "        elif operation==\"OR NOT\":\n",
    "            answer,temp=t1_or_not_t2(answer, T2_postings)\n",
    "            comparisions+=temp\n",
    "        q_ptr+=1\n",
    "        o_ptr+=1\n",
    "        # print(answer)\n",
    "    print(f\"Query {i}:\",prt_query)\n",
    "    print(f\"Number of documents retrieved for query {i}:\",len(answer))\n",
    "    names=\", \".join([doc_names[id-1]+\".txt\" for id in answer])\n",
    "    print(f\"Names of documents retrieved for query {i}:\",names)\n",
    "    print(f\"Number of comparisions required for query {i}:\",comparisions)"
   ]
  },
  {
   "cell_type": "code",
   "execution_count": 19,
   "metadata": {},
   "outputs": [
    {
     "ename": "SyntaxError",
     "evalue": "invalid syntax (Temp/ipykernel_13624/1194624433.py, line 2)",
     "output_type": "error",
     "traceback": [
      "\u001b[1;36m  File \u001b[1;32m\"C:\\Users\\Admin\\AppData\\Local\\Temp/ipykernel_13624/1194624433.py\"\u001b[1;36m, line \u001b[1;32m2\u001b[0m\n\u001b[1;33m    investigation of experimental\u001b[0m\n\u001b[1;37m                  ^\u001b[0m\n\u001b[1;31mSyntaxError\u001b[0m\u001b[1;31m:\u001b[0m invalid syntax\n"
     ]
    }
   ],
   "source": [
    "# 1\n",
    "# investigation of experimental\n",
    "# AND,AND"
   ]
  },
  {
   "cell_type": "code",
   "execution_count": null,
   "metadata": {},
   "outputs": [],
   "source": []
  }
 ],
 "metadata": {
  "kernelspec": {
   "display_name": "benv",
   "language": "python",
   "name": "python3"
  },
  "language_info": {
   "codemirror_mode": {
    "name": "ipython",
    "version": 3
   },
   "file_extension": ".py",
   "mimetype": "text/x-python",
   "name": "python",
   "nbconvert_exporter": "python",
   "pygments_lexer": "ipython3",
   "version": "3.9.7"
  },
  "orig_nbformat": 4,
  "vscode": {
   "interpreter": {
    "hash": "a9509631f6d892f4e9e996ac093b0c5f431d646c0c87d4a83f341ba5e921b848"
   }
  }
 },
 "nbformat": 4,
 "nbformat_minor": 2
}
